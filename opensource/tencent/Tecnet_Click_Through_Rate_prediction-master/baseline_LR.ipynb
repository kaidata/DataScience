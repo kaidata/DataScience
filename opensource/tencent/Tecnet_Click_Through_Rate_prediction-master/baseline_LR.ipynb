{
 "cells": [
  {
   "cell_type": "markdown",
   "metadata": {},
   "source": [
    "This is a Logistic version. We use categorical variable. We use OneHotEncoder to deal with the "
   ]
  },
  {
   "cell_type": "code",
   "execution_count": 4,
   "metadata": {
    "collapsed": true
   },
   "outputs": [],
   "source": [
    "# -*- coding: utf-8 -*-\n",
    "import zipfile\n",
    "import pandas as pd\n",
    "from scipy import sparse\n",
    "from sklearn.preprocessing import OneHotEncoder\n",
    "from sklearn.linear_model import LogisticRegression\n",
    "\n",
    "# load data\n",
    "dfTrain = pd.read_csv(\"train.csv\")\n",
    "dfTest = pd.read_csv(\"test.csv\")\n",
    "dfAd = pd.read_csv(\"ad.csv\")\n",
    "\n",
    "# process data\n",
    "dfTrain = pd.merge(dfTrain, dfAd, on=\"creativeID\")\n",
    "dfTest = pd.merge(dfTest, dfAd, on=\"creativeID\")\n",
    "y_train = dfTrain[\"label\"].values\n",
    "\n",
    "# feature engineering/encoding\n",
    "enc = OneHotEncoder()\n",
    "feats = [\"creativeID\", \"adID\", \"camgaignID\", \"advertiserID\", \"appID\", \"appPlatform\"]\n",
    "for i,feat in enumerate(feats):\n",
    "    x_train = enc.fit_transform(dfTrain[feat].values.reshape(-1, 1))\n",
    "    x_test = enc.transform(dfTest[feat].values.reshape(-1, 1))\n",
    "    if i == 0:\n",
    "        X_train, X_test = x_train, x_test\n",
    "    else:\n",
    "        X_train, X_test = sparse.hstack((X_train, x_train)), sparse.hstack((X_test, x_test))"
   ]
  },
  {
   "cell_type": "code",
   "execution_count": 12,
   "metadata": {},
   "outputs": [
    {
     "name": "stdout",
     "output_type": "stream",
     "text": [
      "  (0, 2966)\t1.0\n",
      "  (0, 7575)\t1.0\n",
      "  (0, 9841)\t1.0\n",
      "  (0, 10447)\t1.0\n",
      "  (0, 10574)\t1.0\n",
      "  (0, 10578)\t1.0\n",
      "The shape of X_train is: (3749528, 10580)\n"
     ]
    }
   ],
   "source": [
    "print(X_train.tocsr()[5])\n",
    "print(\"The shape of X_train is:\",X_train.shape)"
   ]
  },
  {
   "cell_type": "markdown",
   "metadata": {},
   "source": [
    "We can see that train feature is a large sparse matrix. To store the matrix, we use index to indentify which numbers should be 1. In this way, the computer can save lots of space."
   ]
  },
  {
   "cell_type": "code",
   "execution_count": 13,
   "metadata": {},
   "outputs": [
    {
     "data": {
      "text/html": [
       "<div>\n",
       "<style>\n",
       "    .dataframe thead tr:only-child th {\n",
       "        text-align: right;\n",
       "    }\n",
       "\n",
       "    .dataframe thead th {\n",
       "        text-align: left;\n",
       "    }\n",
       "\n",
       "    .dataframe tbody tr th {\n",
       "        vertical-align: top;\n",
       "    }\n",
       "</style>\n",
       "<table border=\"1\" class=\"dataframe\">\n",
       "  <thead>\n",
       "    <tr style=\"text-align: right;\">\n",
       "      <th></th>\n",
       "      <th>instanceID</th>\n",
       "      <th>proba</th>\n",
       "    </tr>\n",
       "  </thead>\n",
       "  <tbody>\n",
       "    <tr>\n",
       "      <th>0</th>\n",
       "      <td>1</td>\n",
       "      <td>0.001536</td>\n",
       "    </tr>\n",
       "    <tr>\n",
       "      <th>1238</th>\n",
       "      <td>2</td>\n",
       "      <td>0.002878</td>\n",
       "    </tr>\n",
       "    <tr>\n",
       "      <th>1887</th>\n",
       "      <td>3</td>\n",
       "      <td>0.025357</td>\n",
       "    </tr>\n",
       "    <tr>\n",
       "      <th>12634</th>\n",
       "      <td>4</td>\n",
       "      <td>0.025874</td>\n",
       "    </tr>\n",
       "    <tr>\n",
       "      <th>35772</th>\n",
       "      <td>5</td>\n",
       "      <td>0.001786</td>\n",
       "    </tr>\n",
       "  </tbody>\n",
       "</table>\n",
       "</div>"
      ],
      "text/plain": [
       "       instanceID     proba\n",
       "0               1  0.001536\n",
       "1238            2  0.002878\n",
       "1887            3  0.025357\n",
       "12634           4  0.025874\n",
       "35772           5  0.001786"
      ]
     },
     "execution_count": 13,
     "metadata": {},
     "output_type": "execute_result"
    }
   ],
   "source": [
    "# model training\n",
    "lr = LogisticRegression()\n",
    "lr.fit(X_train, y_train)\n",
    "proba_test = lr.predict_proba(X_test)[:,1] # the first column is probability for 0 and second column is for 1\n",
    "\n",
    "# submission\n",
    "df = pd.DataFrame({\"instanceID\": dfTest[\"instanceID\"].values, \"proba\": proba_test})\n",
    "df.sort_values(\"instanceID\", inplace=True)\n",
    "df.head()"
   ]
  },
  {
   "cell_type": "code",
   "execution_count": null,
   "metadata": {
    "collapsed": true
   },
   "outputs": [],
   "source": [
    "# you can also save your result\n",
    "df.to_csv(\"submission.csv\", index=False)\n",
    "with zipfile.ZipFile(\"submission.zip\", \"w\") as fout:\n",
    "    fout.write(\"submission.csv\", compress_type=zipfile.ZIP_DEFLATED)"
   ]
  }
 ],
 "metadata": {
  "kernelspec": {
   "display_name": "Python 3",
   "language": "python",
   "name": "python3"
  },
  "language_info": {
   "codemirror_mode": {
    "name": "ipython",
    "version": 3
   },
   "file_extension": ".py",
   "mimetype": "text/x-python",
   "name": "python",
   "nbconvert_exporter": "python",
   "pygments_lexer": "ipython3",
   "version": "3.6.1"
  }
 },
 "nbformat": 4,
 "nbformat_minor": 2
}
