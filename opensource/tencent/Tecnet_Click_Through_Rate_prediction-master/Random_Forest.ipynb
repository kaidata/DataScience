{
 "cells": [
  {
   "cell_type": "code",
   "execution_count": 3,
   "metadata": {
    "collapsed": true
   },
   "outputs": [],
   "source": [
    "import pandas as pd\n",
    "import numpy as np\n",
    "from pandas import DataFrame\n",
    "from sklearn.ensemble import RandomForestClassifier\n",
    "from sklearn.model_selection import cross_val_score, train_test_split\n",
    "from sklearn.model_selection import GridSearchCV\n",
    "import matplotlib.pyplot as plt\n",
    "\n",
    "train_x_raw = pd.read_csv(\"train_x.csv\")\n",
    "train_y_raw = pd.read_csv(\"train_y.csv\")\n",
    "test_x_raw = pd.read_csv(\"test.csv\")\n",
    "\n",
    "# change dataframe to matrix\n",
    "train_x = np.array(train_x_raw,dtype='int32')\n",
    "train_y = np.array(train_y_raw,dtype='int32').reshape(len(train_y_raw),)\n",
    "\n",
    "features = np.array(train_x_raw.columns)"
   ]
  },
  {
   "cell_type": "markdown",
   "metadata": {},
   "source": [
    "Mind the input of x and y form."
   ]
  },
  {
   "cell_type": "code",
   "execution_count": 4,
   "metadata": {},
   "outputs": [
    {
     "data": {
      "text/plain": [
       "RandomForestClassifier(bootstrap=True, class_weight=None, criterion='gini',\n",
       "            max_depth=None, max_features='auto', max_leaf_nodes=None,\n",
       "            min_impurity_split=1e-07, min_samples_leaf=1,\n",
       "            min_samples_split=2, min_weight_fraction_leaf=0.0,\n",
       "            n_estimators=100, n_jobs=-1, oob_score=False, random_state=0,\n",
       "            verbose=0, warm_start=False)"
      ]
     },
     "execution_count": 4,
     "metadata": {},
     "output_type": "execute_result"
    }
   ],
   "source": [
    "# build a model\n",
    "model = RandomForestClassifier(n_estimators=100,\n",
    "                                random_state=0,\n",
    "                                n_jobs=-1)\n",
    "model.fit(train_x, train_y)"
   ]
  },
  {
   "cell_type": "code",
   "execution_count": 7,
   "metadata": {},
   "outputs": [],
   "source": [
    "# here we see the importance\n",
    "importances = model.feature_importances_\n",
    "\n",
    "importances_df = DataFrame({\"feature\":features,\n",
    "                            \"importance\":importances})\n",
    "importances_df = importances_df.sort_values([\"importance\"],ascending=False)"
   ]
  },
  {
   "cell_type": "code",
   "execution_count": 6,
   "metadata": {},
   "outputs": [
    {
     "name": "stdout",
     "output_type": "stream",
     "text": [
      " 1) userID                         0.159138\n",
      " 2) residence                      0.097029\n",
      " 3) clickTime_day                  0.074731\n",
      " 4) positionID                     0.063793\n",
      " 5) residence_province             0.062501\n",
      " 6) age.1                          0.057551\n",
      " 7) age                            0.057541\n",
      " 8) residence_city                 0.056649\n",
      " 9) hometown_province              0.053011\n",
      "10) education                      0.047570\n",
      "11) hometown_city                  0.047466\n",
      "12) clickTime_hour                 0.038141\n",
      "13) telecomsOperator               0.032301\n",
      "14) marriageStatus                 0.030137\n",
      "15) creativeID                     0.028018\n",
      "16) adID                           0.018675\n",
      "17) haveBaby                       0.018002\n",
      "18) camgaignID                     0.015578\n",
      "19) gender                         0.012730\n",
      "20) advertiserID                   0.008121\n",
      "21) app_categories_second_class    0.007234\n",
      "22) appID                          0.005853\n",
      "23) connectionType                 0.004191\n",
      "24) app_categories_first_class     0.003280\n",
      "25) appPlatform                    0.000760\n"
     ]
    },
    {
     "data": {
      "image/png": "[encoded data removed]",
      "text/plain": [
       "<matplotlib.figure.Figure at 0x1cefcdfb898>"
      ]
     },
     "metadata": {},
     "output_type": "display_data"
    }
   ],
   "source": [
    "indices = np.argsort(importances)[::-1] # change order \n",
    "## plot the importance\n",
    "\n",
    "for f in range(train_x.shape[1]):\n",
    "    print(\"%2d) %-*s %f\" % (f + 1, 30, \n",
    "                            features[indices[f]], \n",
    "                            importances[indices[f]]))\n",
    "plt.title('Feature Importances')\n",
    "plt.bar(range(train_x.shape[1]), \n",
    "        importances[indices],\n",
    "        color='lightblue', \n",
    "        align='center')\n",
    "\n",
    "plt.xticks(range(train_x.shape[1]), \n",
    "           features[indices], rotation=90)\n",
    "plt.xlim([-1, train_x.shape[1]])\n",
    "plt.tight_layout()\n",
    "#plt.savefig('./random_forest.png', dpi=300)\n",
    "plt.show()"
   ]
  },
  {
   "cell_type": "markdown",
   "metadata": {},
   "source": [
    "You can also do grid search to find the best parameter."
   ]
  },
  {
   "cell_type": "code",
   "execution_count": null,
   "metadata": {
    "collapsed": true
   },
   "outputs": [],
   "source": [
    "## grid search\n",
    "param_grid = {\n",
    "              'n_estimators': [10, 100, 500, 1000],\n",
    "              'max_features':[0.6, 0.7, 0.8, 0.9]\n",
    "             }\n",
    "\n",
    "rf = RandomForestClassifier()\n",
    "rfc = GridSearchCV(rf, param_grid, scoring = 'neg_log_loss', cv=3, n_jobs=2)\n",
    "rfc.fit(train_x,train_y)\n",
    "print(rfc.best_score_)\n",
    "print(rfc.best_params_)"
   ]
  }
 ],
 "metadata": {
  "kernelspec": {
   "display_name": "Python 3",
   "language": "python",
   "name": "python3"
  },
  "language_info": {
   "codemirror_mode": {
    "name": "ipython",
    "version": 3
   },
   "file_extension": ".py",
   "mimetype": "text/x-python",
   "name": "python",
   "nbconvert_exporter": "python",
   "pygments_lexer": "ipython3",
   "version": "3.6.1"
  }
 },
 "nbformat": 4,
 "nbformat_minor": 2
}
