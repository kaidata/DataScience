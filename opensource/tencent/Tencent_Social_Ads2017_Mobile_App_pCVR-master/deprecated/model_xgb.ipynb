{
 "cells": [
  {
   "cell_type": "code",
   "execution_count": 1,
   "metadata": {
    "collapsed": false
   },
   "outputs": [
    {
     "name": "stderr",
     "output_type": "stream",
     "text": [
      "/home/shenweichen/anaconda3/lib/python3.6/site-packages/sklearn/cross_validation.py:44: DeprecationWarning: This module was deprecated in version 0.18 in favor of the model_selection module into which all the refactored classes and functions are moved. Also note that the interface of the new CV iterators are different from that of this module. This module will be removed in 0.20.\n",
      "  \"This module will be removed in 0.20.\", DeprecationWarning)\n"
     ]
    }
   ],
   "source": [
    "import xgboost as xgb\n",
    "import scipy.stats as sps\n",
    "import pandas as pd\n",
    "import numpy as np\n",
    "import warnings\n",
    "import itertools\n",
    "from scipy.sparse import hstack\n",
    "import gc\n",
    "from  xgboost import XGBClassifier\n",
    "from  tqdm import tqdm\n",
    "warnings.filterwarnings(action='ignore')"
   ]
  },
  {
   "cell_type": "code",
   "execution_count": 3,
   "metadata": {
    "collapsed": false
   },
   "outputs": [],
   "source": [
    "seed = 1024\n",
    "np.random.seed(seed)\n",
    "\n",
    "path = './X_v2/'"
   ]
  },
  {
   "cell_type": "code",
   "execution_count": 3,
   "metadata": {
    "collapsed": false
   },
   "outputs": [],
   "source": [
    "train_off = pd.read_pickle(path+'offline_' + 'train' + '_x_23_26' + '.pkl.new')"
   ]
  },
  {
   "cell_type": "code",
   "execution_count": 4,
   "metadata": {
    "collapsed": false
   },
   "outputs": [],
   "source": [
    "train_1 = train_off[train_off.clickDay<26]\n",
    "del train_off"
   ]
  },
  {
   "cell_type": "code",
   "execution_count": 5,
   "metadata": {
    "collapsed": false
   },
   "outputs": [
    {
     "data": {
      "text/plain": [
       "(7700704, 133)"
      ]
     },
     "execution_count": 5,
     "metadata": {},
     "output_type": "execute_result"
    }
   ],
   "source": [
    "train_1.shape"
   ]
  },
  {
   "cell_type": "code",
   "execution_count": 6,
   "metadata": {
    "collapsed": false
   },
   "outputs": [],
   "source": [
    "test_off = pd.read_pickle(path+ 'offline_' + 'test' + '_x_27_27' + '.pkl.new')"
   ]
  },
  {
   "cell_type": "code",
   "execution_count": 4,
   "metadata": {
    "collapsed": false
   },
   "outputs": [],
   "source": [
    "feature_names = ['creativeID', 'userID',\n",
    "       'positionID', 'connectionType', 'telecomsOperator', 'age', 'gender',\n",
    "       'education', 'marriageStatus', 'haveBaby', 'ht_province',\n",
    "       'rd_province', 'sitesetID', 'positionType', 'adID',\n",
    "       'camgaignID', 'advertiserID', 'appID', 'appPlatform',\n",
    "     # 'user_start_install_cate_0',\n",
    "                 'user_start_install_cate_1',\n",
    "       'user_start_install_cate_2', 'user_start_install_cate_3',\n",
    "       'user_start_install_cate_4', 'user_start_install_cate_5',\n",
    "                 \n",
    "       'appCategory', 'trick', 'first_diff', 'last_diff', 'user_hist_install', 'clickHour',\n",
    "        'user_adID_click_day', 'user_adID_click_hour',\n",
    "       'user_camgaignID_click_day', 'user_camgaignID_click_hour',\n",
    "       'user_appID_click_day', 'user_appID_click_hour',\n",
    "\n",
    "                 \n",
    "                 'user_sitesetID_click_day',\n",
    "       'user_sitesetID_click_hour', 'user_click_day',\n",
    "                 \n",
    "        'positionID_cvr_smooth','creativeID_cvr','userID_cvr','adID_cvr','appID_cvr',\n",
    "     'positionID_sum_count', 'creativeID_sum_count', 'appID_sum_count',\n",
    "       'adID_sum_count', 'userID_sum_count',\n",
    "        'user_ad_click_day_mean', 'user_ad_click_day_min',\n",
    "       'user_camgaign_click_day_min', 'user_app_click_day_mean',\n",
    "       'user_app_click_day_max', 'user_app_click_day_min',\n",
    "       'user_site_click_day_mean', 'user_site_click_day_max',\n",
    "       'user_site_click_day_min', 'user_click_day_mean', 'user_click_day_max','user_click_day_min',\n",
    "        'advertiserID_user_clicks_age_cut_0',\n",
    "       'advertiserID_user_clicks_age_cut_1',\n",
    "       'advertiserID_user_clicks_age_cut_2',\n",
    "       'advertiserID_user_clicks_age_cut_3',\n",
    "       'advertiserID_user_clicks_age_cut_4',\n",
    "       'advertiserID_user_clicks_age_cut_5',\n",
    "       'advertiserID_user_clicks_age_cut_6',\n",
    "      'advertiserID_user_clicks_age_cut_7',\n",
    "       'advertiserID_user_clicks_gender_0',\n",
    "       'advertiserID_user_clicks_gender_1',\n",
    "       'advertiserID_user_clicks_gender_2',\n",
    "       'advertiserID_user_clicks_education_0',\n",
    "       'advertiserID_user_clicks_education_1',\n",
    "       'advertiserID_user_clicks_education_2',\n",
    "       'advertiserID_user_clicks_education_3',\n",
    "       'advertiserID_user_clicks_education_4',\n",
    "       'advertiserID_user_clicks_education_5',\n",
    "       'advertiserID_user_clicks_education_6',\n",
    "       'advertiserID_user_clicks_education_7',\n",
    "       'advertiserID_user_clicks_marriageStatus_0',\n",
    "       'advertiserID_user_clicks_marriageStatus_1',\n",
    "       'advertiserID_user_clicks_marriageStatus_2',\n",
    "       'advertiserID_user_clicks_marriageStatus_3',\n",
    "        \n",
    "       'appID_user_clicks_age_cut_0', 'appID_user_clicks_age_cut_1',\n",
    "       'appID_user_clicks_age_cut_2', 'appID_user_clicks_age_cut_3',\n",
    "       'appID_user_clicks_age_cut_4', 'appID_user_clicks_age_cut_5',\n",
    "       'appID_user_clicks_age_cut_6', 'appID_user_clicks_age_cut_7',\n",
    "       'appID_user_clicks_gender_0', 'appID_user_clicks_gender_1',\n",
    "       'appID_user_clicks_gender_2', 'appID_user_clicks_education_0',\n",
    "       'appID_user_clicks_education_1', 'appID_user_clicks_education_2',\n",
    "       'appID_user_clicks_education_3', 'appID_user_clicks_education_4',\n",
    "       'appID_user_clicks_education_5', 'appID_user_clicks_education_6',\n",
    "       'appID_user_clicks_education_7', 'appID_user_clicks_marriageStatus_0',\n",
    "       'appID_user_clicks_marriageStatus_1',\n",
    "       'appID_user_clicks_marriageStatus_2',\n",
    "       'appID_user_clicks_marriageStatus_3', \n",
    "                 'appID_user_clicks_haveBaby_0',\n",
    "       'appID_user_clicks_haveBaby_1', 'appID_user_clicks_haveBaby_2',\n",
    "       'appID_user_clicks_haveBaby_3', 'appID_user_clicks_haveBaby_4',\n",
    "       'appID_user_clicks_haveBaby_5', 'appID_user_clicks_haveBaby_6',]\n"
   ]
  },
  {
   "cell_type": "code",
   "execution_count": null,
   "metadata": {
    "collapsed": false
   },
   "outputs": [
    {
     "data": {
      "text/plain": [
       "112"
      ]
     },
     "execution_count": 8,
     "metadata": {},
     "output_type": "execute_result"
    }
   ],
   "source": [
    "len(feature_names)"
   ]
  },
  {
   "cell_type": "code",
   "execution_count": null,
   "metadata": {
    "collapsed": false
   },
   "outputs": [],
   "source": [
    "dtrain = xgb.DMatrix(train_1[feature_names].values, train_1['label'].values, feature_names=feature_names)\n",
    "del train_1"
   ]
  },
  {
   "cell_type": "code",
   "execution_count": null,
   "metadata": {
    "collapsed": false
   },
   "outputs": [],
   "source": [
    "dval = xgb.DMatrix(test_off[feature_names].values, test_off['label'].values, feature_names=feature_names)\n",
    "del test_off"
   ]
  },
  {
   "cell_type": "code",
   "execution_count": null,
   "metadata": {
    "collapsed": false
   },
   "outputs": [],
   "source": [
    "watchlist = [(dtrain, 'train'), (dval, 'val')]"
   ]
  },
  {
   "cell_type": "code",
   "execution_count": 21,
   "metadata": {
    "collapsed": true
   },
   "outputs": [],
   "source": [
    "params={\n",
    "    'max_depth':8,\n",
    "    'nthread':25,\n",
    "    'eta':0.1,\n",
    "    'eval_metric':'logloss',\n",
    "    'objective':'binary:logistic',\n",
    "    'subsample':0.7,\n",
    "    'colsample_bytree':0.5,\n",
    "    'silent':1,\n",
    "    'seed':1123,\n",
    "    'min_child_weight':10\n",
    "    #'scale_pos_weight':0.5\n",
    "}"
   ]
  },
  {
   "cell_type": "code",
   "execution_count": null,
   "metadata": {
    "collapsed": false,
    "scrolled": true
   },
   "outputs": [],
   "source": [
    "#new feature\n",
    "clf=xgb.train(params,dtrain,\n",
    "              num_boost_round=2000,\n",
    "              early_stopping_rounds=20,\n",
    "              evals=watchlist,\n",
    "              verbose_eval=10)"
   ]
  },
  {
   "cell_type": "code",
   "execution_count": 29,
   "metadata": {
    "collapsed": false,
    "scrolled": true
   },
   "outputs": [
    {
     "name": "stdout",
     "output_type": "stream",
     "text": [
      "[0]\ttrain-logloss:0.607314\tval-logloss:0.60768\n",
      "Multiple eval metrics have been passed: 'val-logloss' will be used for early stopping.\n",
      "\n",
      "Will train until val-logloss hasn't improved in 20 rounds.\n",
      "[10]\ttrain-logloss:0.2318\tval-logloss:0.234009\n",
      "[20]\ttrain-logloss:0.136529\tval-logloss:0.139858\n",
      "[30]\ttrain-logloss:0.108295\tval-logloss:0.112692\n",
      "[40]\ttrain-logloss:0.099429\tval-logloss:0.104641\n",
      "[50]\ttrain-logloss:0.096274\tval-logloss:0.102194\n",
      "[60]\ttrain-logloss:0.094776\tval-logloss:0.101313\n",
      "[70]\ttrain-logloss:0.093972\tval-logloss:0.101031\n",
      "[80]\ttrain-logloss:0.093292\tval-logloss:0.100871\n",
      "[90]\ttrain-logloss:0.092596\tval-logloss:0.10078\n",
      "[100]\ttrain-logloss:0.091917\tval-logloss:0.100736\n",
      "[110]\ttrain-logloss:0.091223\tval-logloss:0.100718\n",
      "[120]\ttrain-logloss:0.090683\tval-logloss:0.100666\n",
      "[130]\ttrain-logloss:0.090131\tval-logloss:0.100668\n",
      "[140]\ttrain-logloss:0.089633\tval-logloss:0.100678\n",
      "Stopping. Best iteration:\n",
      "[125]\ttrain-logloss:0.090418\tval-logloss:0.100658\n",
      "\n"
     ]
    }
   ],
   "source": [
    "clf=xgb.train(params2,dtrain,\n",
    "              num_boost_round=2000,\n",
    "              early_stopping_rounds=20,\n",
    "              evals=watchlist,\n",
    "              verbose_eval=10)"
   ]
  },
  {
   "cell_type": "code",
   "execution_count": null,
   "metadata": {
    "collapsed": true
   },
   "outputs": [],
   "source": [
    "clf.save_model('230_round_xgb.hdf5')"
   ]
  },
  {
   "cell_type": "code",
   "execution_count": 5,
   "metadata": {
    "collapsed": true
   },
   "outputs": [],
   "source": [
    "test_on = pd.read_pickle(path+'online_' + 'test' + '_x_31_31' + '.pkl.new')"
   ]
  },
  {
   "cell_type": "code",
   "execution_count": null,
   "metadata": {
    "collapsed": true
   },
   "outputs": [],
   "source": []
  },
  {
   "cell_type": "code",
   "execution_count": null,
   "metadata": {
    "collapsed": true
   },
   "outputs": [],
   "source": []
  },
  {
   "cell_type": "code",
   "execution_count": 6,
   "metadata": {
    "collapsed": false
   },
   "outputs": [],
   "source": [
    "train_on = pd.read_pickle(path+'online_' + 'train' + '_x_26_29' + '.pkl.new')"
   ]
  },
  {
   "cell_type": "code",
   "execution_count": 6,
   "metadata": {
    "collapsed": false
   },
   "outputs": [
    {
     "data": {
      "text/plain": [
       "(11947463, 133)"
      ]
     },
     "execution_count": 6,
     "metadata": {},
     "output_type": "execute_result"
    }
   ],
   "source": [
    "train_on.shape"
   ]
  },
  {
   "cell_type": "code",
   "execution_count": 7,
   "metadata": {
    "collapsed": false
   },
   "outputs": [],
   "source": [
    "dtrain = xgb.DMatrix(train_on[feature_names].values, train_on['label'].values, feature_names=feature_names)\n",
    "del train_on"
   ]
  },
  {
   "cell_type": "code",
   "execution_count": 8,
   "metadata": {
    "collapsed": false
   },
   "outputs": [],
   "source": [
    "watchlist = [(dtrain, 'train'), (dtrain, 'val')]"
   ]
  },
  {
   "cell_type": "code",
   "execution_count": 9,
   "metadata": {
    "collapsed": true
   },
   "outputs": [],
   "source": [
    "params={\n",
    "    'max_depth':8,\n",
    "    'nthread':25,\n",
    "    'eta':0.1,\n",
    "    'eval_metric':'logloss',\n",
    "    'objective':'binary:logistic',\n",
    "    'subsample':0.7,\n",
    "    'colsample_bytree':0.5,\n",
    "    'silent':1,\n",
    "    'seed':1123,\n",
    "    'min_child_weight':10\n",
    "    #'scale_pos_weight':0.5\n",
    "}"
   ]
  },
  {
   "cell_type": "code",
   "execution_count": 10,
   "metadata": {
    "collapsed": false,
    "scrolled": true
   },
   "outputs": [
    {
     "name": "stdout",
     "output_type": "stream",
     "text": [
      "[0]\ttrain-logloss:0.607573\tval-logloss:0.607573\n",
      "Multiple eval metrics have been passed: 'val-logloss' will be used for early stopping.\n",
      "\n",
      "Will train until val-logloss hasn't improved in 20 rounds.\n",
      "[10]\ttrain-logloss:0.233847\tval-logloss:0.233847\n",
      "[20]\ttrain-logloss:0.140372\tval-logloss:0.140372\n",
      "[30]\ttrain-logloss:0.113379\tval-logloss:0.113379\n",
      "[40]\ttrain-logloss:0.105017\tval-logloss:0.105017\n",
      "[50]\ttrain-logloss:0.102279\tval-logloss:0.102279\n",
      "[60]\ttrain-logloss:0.10108\tval-logloss:0.10108\n",
      "[70]\ttrain-logloss:0.10047\tval-logloss:0.10047\n",
      "[80]\ttrain-logloss:0.100018\tval-logloss:0.100018\n",
      "[90]\ttrain-logloss:0.09958\tval-logloss:0.09958\n",
      "[100]\ttrain-logloss:0.099315\tval-logloss:0.099315\n",
      "[110]\ttrain-logloss:0.099059\tval-logloss:0.099059\n",
      "[120]\ttrain-logloss:0.098804\tval-logloss:0.098804\n",
      "[130]\ttrain-logloss:0.098563\tval-logloss:0.098563\n"
     ]
    }
   ],
   "source": [
    "clf=xgb.train(params,dtrain,\n",
    "              num_boost_round=140,\n",
    "              early_stopping_rounds=20,\n",
    "              evals=watchlist,\n",
    "              verbose_eval=10)"
   ]
  },
  {
   "cell_type": "code",
   "execution_count": 23,
   "metadata": {
    "collapsed": false
   },
   "outputs": [
    {
     "name": "stdout",
     "output_type": "stream",
     "text": [
      "[0]\ttrain-logloss:0.607473\tval-logloss:0.607473\n",
      "Multiple eval metrics have been passed: 'val-logloss' will be used for early stopping.\n",
      "\n",
      "Will train until val-logloss hasn't improved in 20 rounds.\n",
      "[10]\ttrain-logloss:0.233101\tval-logloss:0.233101\n",
      "[20]\ttrain-logloss:0.139046\tval-logloss:0.139046\n",
      "[30]\ttrain-logloss:0.111538\tval-logloss:0.111538\n",
      "[40]\ttrain-logloss:0.103209\tval-logloss:0.103209\n",
      "[50]\ttrain-logloss:0.100479\tval-logloss:0.100479\n",
      "[60]\ttrain-logloss:0.099372\tval-logloss:0.099372\n",
      "[70]\ttrain-logloss:0.098729\tval-logloss:0.098729\n",
      "[80]\ttrain-logloss:0.098285\tval-logloss:0.098285\n",
      "[90]\ttrain-logloss:0.097849\tval-logloss:0.097849\n",
      "[100]\ttrain-logloss:0.097454\tval-logloss:0.097454\n",
      "[110]\ttrain-logloss:0.097109\tval-logloss:0.097109\n",
      "[120]\ttrain-logloss:0.096812\tval-logloss:0.096812\n",
      "[130]\ttrain-logloss:0.096525\tval-logloss:0.096525\n"
     ]
    }
   ],
   "source": [
    "clf=xgb.train(params,dtrain,\n",
    "              num_boost_round=140,\n",
    "              early_stopping_rounds=20,\n",
    "              evals=watchlist,\n",
    "              verbose_eval=10)"
   ]
  },
  {
   "cell_type": "code",
   "execution_count": 15,
   "metadata": {
    "collapsed": false
   },
   "outputs": [],
   "source": [
    "test_on = pd.read_pickle(path+'online_' + 'test' + '_x_31_31' + '.pkl.new')\n",
    "dtest=xgb.DMatrix(test_on[feature_names].values,feature_names=feature_names)\n",
    "del test_on\n"
   ]
  },
  {
   "cell_type": "code",
   "execution_count": 16,
   "metadata": {
    "collapsed": true
   },
   "outputs": [],
   "source": [
    "res=clf.predict(dtest)\n",
    "result = pd.read_csv('../result/demo_result.csv',index_col=['instanceID'])\n",
    "result['prob'] = res\n"
   ]
  },
  {
   "cell_type": "code",
   "execution_count": 17,
   "metadata": {
    "collapsed": false
   },
   "outputs": [
    {
     "data": {
      "text/html": [
       "<div>\n",
       "<table border=\"1\" class=\"dataframe\">\n",
       "  <thead>\n",
       "    <tr style=\"text-align: right;\">\n",
       "      <th></th>\n",
       "      <th>prob</th>\n",
       "    </tr>\n",
       "  </thead>\n",
       "  <tbody>\n",
       "    <tr>\n",
       "      <th>count</th>\n",
       "      <td>3.321748e+06</td>\n",
       "    </tr>\n",
       "    <tr>\n",
       "      <th>mean</th>\n",
       "      <td>2.496050e-02</td>\n",
       "    </tr>\n",
       "    <tr>\n",
       "      <th>std</th>\n",
       "      <td>3.820211e-02</td>\n",
       "    </tr>\n",
       "    <tr>\n",
       "      <th>min</th>\n",
       "      <td>1.187740e-05</td>\n",
       "    </tr>\n",
       "    <tr>\n",
       "      <th>25%</th>\n",
       "      <td>2.172654e-03</td>\n",
       "    </tr>\n",
       "    <tr>\n",
       "      <th>50%</th>\n",
       "      <td>1.228836e-02</td>\n",
       "    </tr>\n",
       "    <tr>\n",
       "      <th>75%</th>\n",
       "      <td>3.310529e-02</td>\n",
       "    </tr>\n",
       "    <tr>\n",
       "      <th>max</th>\n",
       "      <td>8.703234e-01</td>\n",
       "    </tr>\n",
       "  </tbody>\n",
       "</table>\n",
       "</div>"
      ],
      "text/plain": [
       "               prob\n",
       "count  3.321748e+06\n",
       "mean   2.496050e-02\n",
       "std    3.820211e-02\n",
       "min    1.187740e-05\n",
       "25%    2.172654e-03\n",
       "50%    1.228836e-02\n",
       "75%    3.310529e-02\n",
       "max    8.703234e-01"
      ]
     },
     "execution_count": 17,
     "metadata": {},
     "output_type": "execute_result"
    }
   ],
   "source": [
    "result.describe()"
   ]
  },
  {
   "cell_type": "code",
   "execution_count": 18,
   "metadata": {
    "collapsed": false
   },
   "outputs": [],
   "source": [
    "result = pd.read_csv('./res/submission_6_23_depth_10.csv')"
   ]
  },
  {
   "cell_type": "code",
   "execution_count": 15,
   "metadata": {
    "collapsed": false
   },
   "outputs": [
    {
     "data": {
      "text/plain": [
       "<xgboost.core.Booster at 0x7f7b9a015da0>"
      ]
     },
     "execution_count": 15,
     "metadata": {},
     "output_type": "execute_result"
    }
   ],
   "source": [
    "clf"
   ]
  },
  {
   "cell_type": "code",
   "execution_count": 11,
   "metadata": {
    "collapsed": false
   },
   "outputs": [
    {
     "name": "stdout",
     "output_type": "stream",
     "text": [
      "train end!\n"
     ]
    }
   ],
   "source": [
    "print('train end!')"
   ]
  },
  {
   "cell_type": "code",
   "execution_count": 35,
   "metadata": {
    "collapsed": false
   },
   "outputs": [
    {
     "data": {
      "text/plain": [
       "0.094901951478717023"
      ]
     },
     "execution_count": 35,
     "metadata": {},
     "output_type": "execute_result"
    }
   ],
   "source": [
    "logloss(valid_y,pred_y)"
   ]
  },
  {
   "cell_type": "code",
   "execution_count": 12,
   "metadata": {
    "collapsed": false,
    "scrolled": true
   },
   "outputs": [],
   "source": [
    "test_on = pd.read_pickle(path+'online_' + 'test' + '_x_31_31' + '.pkl.new')"
   ]
  },
  {
   "cell_type": "code",
   "execution_count": 13,
   "metadata": {
    "collapsed": true
   },
   "outputs": [],
   "source": [
    "dtest=xgb.DMatrix(test_on[feature_names].values,feature_names=feature_names)\n",
    "del test_on"
   ]
  },
  {
   "cell_type": "code",
   "execution_count": 14,
   "metadata": {
    "collapsed": false,
    "scrolled": true
   },
   "outputs": [],
   "source": [
    "res=clf.predict(dtest)"
   ]
  },
  {
   "cell_type": "code",
   "execution_count": 16,
   "metadata": {
    "collapsed": false
   },
   "outputs": [
    {
     "data": {
      "text/html": [
       "<div>\n",
       "<table border=\"1\" class=\"dataframe\">\n",
       "  <thead>\n",
       "    <tr style=\"text-align: right;\">\n",
       "      <th></th>\n",
       "      <th>prob</th>\n",
       "    </tr>\n",
       "  </thead>\n",
       "  <tbody>\n",
       "    <tr>\n",
       "      <th>count</th>\n",
       "      <td>3.321748e+06</td>\n",
       "    </tr>\n",
       "    <tr>\n",
       "      <th>mean</th>\n",
       "      <td>2.470205e-02</td>\n",
       "    </tr>\n",
       "    <tr>\n",
       "      <th>std</th>\n",
       "      <td>4.125664e-02</td>\n",
       "    </tr>\n",
       "    <tr>\n",
       "      <th>min</th>\n",
       "      <td>2.668653e-06</td>\n",
       "    </tr>\n",
       "    <tr>\n",
       "      <th>25%</th>\n",
       "      <td>1.627459e-03</td>\n",
       "    </tr>\n",
       "    <tr>\n",
       "      <th>50%</th>\n",
       "      <td>1.028007e-02</td>\n",
       "    </tr>\n",
       "    <tr>\n",
       "      <th>75%</th>\n",
       "      <td>3.171212e-02</td>\n",
       "    </tr>\n",
       "    <tr>\n",
       "      <th>max</th>\n",
       "      <td>9.019705e-01</td>\n",
       "    </tr>\n",
       "  </tbody>\n",
       "</table>\n",
       "</div>"
      ],
      "text/plain": [
       "               prob\n",
       "count  3.321748e+06\n",
       "mean   2.470205e-02\n",
       "std    4.125664e-02\n",
       "min    2.668653e-06\n",
       "25%    1.627459e-03\n",
       "50%    1.028007e-02\n",
       "75%    3.171212e-02\n",
       "max    9.019705e-01"
      ]
     },
     "execution_count": 16,
     "metadata": {},
     "output_type": "execute_result"
    }
   ],
   "source": [
    "result.describe()"
   ]
  },
  {
   "cell_type": "code",
   "execution_count": 15,
   "metadata": {
    "collapsed": true
   },
   "outputs": [],
   "source": [
    "result = pd.read_csv('../result/demo_result.csv',index_col=['instanceID'])\n",
    "result['prob'] = res\n",
    "result.to_csv('./res/submission.csv')"
   ]
  },
  {
   "cell_type": "code",
   "execution_count": 16,
   "metadata": {
    "collapsed": true
   },
   "outputs": [],
   "source": [
    "def inverse_logit(x):\n",
    "    return np.log(x/(1-x))\n",
    "def logit(x):\n",
    "    return 1/(1+np.exp(-x))\n",
    "def calibration(pred,avg):\n",
    "    intercept = inverse_logit(np.mean(pred))- inverse_logit(avg)\n",
    "    return logit(inverse_logit(pred) - intercept)"
   ]
  },
  {
   "cell_type": "code",
   "execution_count": 28,
   "metadata": {
    "collapsed": false
   },
   "outputs": [],
   "source": [
    "res = calibration(res,0.027232030146226993)"
   ]
  },
  {
   "cell_type": "code",
   "execution_count": 29,
   "metadata": {
    "collapsed": false,
    "scrolled": true
   },
   "outputs": [],
   "source": [
    "result = pd.read_csv('../result/demo_result.csv',index_col=['instanceID'])\n",
    "result['prob'] = res"
   ]
  },
  {
   "cell_type": "code",
   "execution_count": 30,
   "metadata": {
    "collapsed": false
   },
   "outputs": [],
   "source": [
    "result.to_csv('./res/submission_6_23_depth_10_adj.csv')"
   ]
  },
  {
   "cell_type": "code",
   "execution_count": null,
   "metadata": {
    "collapsed": true
   },
   "outputs": [],
   "source": []
  },
  {
   "cell_type": "code",
   "execution_count": null,
   "metadata": {
    "collapsed": true
   },
   "outputs": [],
   "source": []
  },
  {
   "cell_type": "code",
   "execution_count": 1,
   "metadata": {
    "collapsed": false
   },
   "outputs": [
    {
     "name": "stderr",
     "output_type": "stream",
     "text": [
      "/home/shenweichen/anaconda3/lib/python3.6/site-packages/sklearn/cross_validation.py:44: DeprecationWarning: This module was deprecated in version 0.18 in favor of the model_selection module into which all the refactored classes and functions are moved. Also note that the interface of the new CV iterators are different from that of this module. This module will be removed in 0.20.\n",
      "  \"This module will be removed in 0.20.\", DeprecationWarning)\n"
     ]
    }
   ],
   "source": [
    "import xgboost as xgb\n",
    "import scipy.stats as sps\n",
    "import pandas as pd\n",
    "import numpy as np\n",
    "import warnings\n",
    "import itertools\n",
    "from scipy.sparse import hstack\n",
    "import gc\n",
    "from  tqdm import tqdm\n",
    "from  xgboost import XGBClassifier\n",
    "from sklearn.model_selection import KFold"
   ]
  },
  {
   "cell_type": "code",
   "execution_count": 2,
   "metadata": {
    "collapsed": true
   },
   "outputs": [],
   "source": [
    "warnings.filterwarnings(action='ignore')\n",
    "\n",
    "seed = 1024\n",
    "np.random.seed(seed)\n",
    "\n",
    "\n",
    "path = './X_v2/'"
   ]
  },
  {
   "cell_type": "code",
   "execution_count": 3,
   "metadata": {
    "collapsed": true
   },
   "outputs": [],
   "source": [
    "train_25 = pd.read_pickle(path + 'online_' + 'train' + '_x_25_25' + '.pkl.6.26')"
   ]
  },
  {
   "cell_type": "code",
   "execution_count": 5,
   "metadata": {
    "collapsed": false
   },
   "outputs": [],
   "source": [
    "train =pd.read_pickle(path + 'online_' + 'train' + '_x_26_29' + '.pkl.6.26')\n",
    "test = pd.read_pickle(path+'online_' + 'test' + '_x_31_31' + '.pkl.6.26')\n",
    "feature_names = [#'creativeID', 'userID',\n",
    "                 'positionID', 'connectionType', 'telecomsOperator', 'age', 'gender',\n",
    "                 'education', 'marriageStatus', 'haveBaby', 'ht_province',\n",
    "                 'rd_province', 'sitesetID', 'positionType', 'adID',\n",
    "                 'camgaignID', 'advertiserID', 'appID', 'appPlatform',\n",
    "                 # 'user_start_install_cate_0',\n",
    "                 'user_start_install_cate_1',\n",
    "                 'user_start_install_cate_2', 'user_start_install_cate_3',\n",
    "                 'user_start_install_cate_4', 'user_start_install_cate_5',\n",
    "\n",
    "                 'appCategory', 'trick', 'first_diff', 'last_diff', 'user_hist_install', 'clickHour',\n",
    "                 'user_adID_click_day', 'user_adID_click_hour',\n",
    "                 'user_camgaignID_click_day', 'user_camgaignID_click_hour',\n",
    "                 'user_appID_click_day', 'user_appID_click_hour',\n",
    "\n",
    "                 'user_sitesetID_click_day',\n",
    "                 'user_sitesetID_click_hour', 'user_click_day',\n",
    "\n",
    "                 'positionID_cvr_smooth', 'creativeID_cvr', 'userID_cvr', 'adID_cvr', 'appID_cvr',\n",
    "                 'positionID_sum_count', 'creativeID_sum_count', 'appID_sum_count',\n",
    "                 'adID_sum_count', 'userID_sum_count',\n",
    "                 'user_ad_click_day_mean', 'user_ad_click_day_min',\n",
    "                 'user_camgaign_click_day_min', 'user_app_click_day_mean',\n",
    "                 'user_app_click_day_max', 'user_app_click_day_min',\n",
    "                 'user_site_click_day_mean', 'user_site_click_day_max',\n",
    "                 'user_site_click_day_min', 'user_click_day_mean', 'user_click_day_max', 'user_click_day_min',\n",
    "                 'advertiserID_user_clicks_age_cut_0',\n",
    "                 'advertiserID_user_clicks_age_cut_1',\n",
    "                 'advertiserID_user_clicks_age_cut_2',\n",
    "                 'advertiserID_user_clicks_age_cut_3',\n",
    "                 'advertiserID_user_clicks_age_cut_4',\n",
    "                 'advertiserID_user_clicks_age_cut_5',\n",
    "                 'advertiserID_user_clicks_age_cut_6',\n",
    "                 'advertiserID_user_clicks_age_cut_7',\n",
    "                 'advertiserID_user_clicks_gender_0',\n",
    "                 'advertiserID_user_clicks_gender_1',\n",
    "                 'advertiserID_user_clicks_gender_2',\n",
    "                 'advertiserID_user_clicks_education_0',\n",
    "                 'advertiserID_user_clicks_education_1',\n",
    "                 'advertiserID_user_clicks_education_2',\n",
    "                 'advertiserID_user_clicks_education_3',\n",
    "                 'advertiserID_user_clicks_education_4',\n",
    "                 'advertiserID_user_clicks_education_5',\n",
    "                 'advertiserID_user_clicks_education_6',\n",
    "                 'advertiserID_user_clicks_education_7',\n",
    "                 'advertiserID_user_clicks_marriageStatus_0',\n",
    "                 'advertiserID_user_clicks_marriageStatus_1',\n",
    "                 'advertiserID_user_clicks_marriageStatus_2',\n",
    "                 'advertiserID_user_clicks_marriageStatus_3',\n",
    "\n",
    "                 'appID_user_clicks_age_cut_0', 'appID_user_clicks_age_cut_1',\n",
    "                 'appID_user_clicks_age_cut_2', 'appID_user_clicks_age_cut_3',\n",
    "                 'appID_user_clicks_age_cut_4', 'appID_user_clicks_age_cut_5',\n",
    "                 'appID_user_clicks_age_cut_6', 'appID_user_clicks_age_cut_7',\n",
    "                 'appID_user_clicks_gender_0', 'appID_user_clicks_gender_1',\n",
    "                 'appID_user_clicks_gender_2', 'appID_user_clicks_education_0',\n",
    "                 'appID_user_clicks_education_1', 'appID_user_clicks_education_2',\n",
    "                 'appID_user_clicks_education_3', 'appID_user_clicks_education_4',\n",
    "                 'appID_user_clicks_education_5', 'appID_user_clicks_education_6',\n",
    "                 'appID_user_clicks_education_7', 'appID_user_clicks_marriageStatus_0',\n",
    "                 'appID_user_clicks_marriageStatus_1',\n",
    "                 'appID_user_clicks_marriageStatus_2',\n",
    "                 'appID_user_clicks_marriageStatus_3',\n",
    "                 'appID_user_clicks_haveBaby_0',\n",
    "                 'appID_user_clicks_haveBaby_1', 'appID_user_clicks_haveBaby_2',\n",
    "                 'appID_user_clicks_haveBaby_3', 'appID_user_clicks_haveBaby_4',\n",
    "                 'appID_user_clicks_haveBaby_5', 'appID_user_clicks_haveBaby_6','install2click']"
   ]
  },
  {
   "cell_type": "code",
   "execution_count": 8,
   "metadata": {
    "collapsed": true
   },
   "outputs": [],
   "source": [
    "train = pd.concat([train_25,train])"
   ]
  },
  {
   "cell_type": "code",
   "execution_count": 10,
   "metadata": {
    "collapsed": false
   },
   "outputs": [
    {
     "data": {
      "text/plain": [
       "(14597343, 134)"
      ]
     },
     "execution_count": 10,
     "metadata": {},
     "output_type": "execute_result"
    }
   ],
   "source": [
    "train.shape"
   ]
  },
  {
   "cell_type": "code",
   "execution_count": 11,
   "metadata": {
    "collapsed": false
   },
   "outputs": [
    {
     "name": "stdout",
     "output_type": "stream",
     "text": [
      "(14597343, 113) (3321748, 113)\n"
     ]
    }
   ],
   "source": [
    "X_train = train[feature_names].values\n",
    "X_test = test[feature_names].values\n",
    "y = train['label'].values\n",
    "# y_test = test['label'].values\n",
    "del train,test\n",
    "print(X_train.shape,X_test.shape)"
   ]
  },
  {
   "cell_type": "code",
   "execution_count": 12,
   "metadata": {
    "collapsed": true
   },
   "outputs": [],
   "source": [
    "params={\n",
    "    'max_depth':10,\n",
    "    'nthread':25,\n",
    "    'eta':0.1,\n",
    "    'eval_metric':'logloss',\n",
    "    'objective':'binary:logistic',\n",
    "    'subsample':0.8,\n",
    "    'colsample_bytree':0.7,\n",
    "    'silent':1,\n",
    "    'seed':1123,\n",
    "    'min_child_weight':10\n",
    "    #'scale_pos_weight':0.5\n",
    "}"
   ]
  },
  {
   "cell_type": "code",
   "execution_count": null,
   "metadata": {
    "collapsed": false,
    "scrolled": true
   },
   "outputs": [
    {
     "name": "stdout",
     "output_type": "stream",
     "text": [
      "[0]\ttrain-logloss:0.607362\tval-logloss:0.607858\n",
      "Multiple eval metrics have been passed: 'val-logloss' will be used for early stopping.\n",
      "\n",
      "Will train until val-logloss hasn't improved in 20 rounds.\n",
      "[10]\ttrain-logloss:0.232351\tval-logloss:0.234143\n",
      "[20]\ttrain-logloss:0.137999\tval-logloss:0.140361\n",
      "[30]\ttrain-logloss:0.110433\tval-logloss:0.113139\n",
      "[40]\ttrain-logloss:0.102146\tval-logloss:0.105129\n",
      "[50]\ttrain-logloss:0.099278\tval-logloss:0.102525\n",
      "[60]\ttrain-logloss:0.098175\tval-logloss:0.101633\n",
      "[70]\ttrain-logloss:0.097559\tval-logloss:0.101193\n",
      "[80]\ttrain-logloss:0.097037\tval-logloss:0.100892\n",
      "[90]\ttrain-logloss:0.096573\tval-logloss:0.100694\n",
      "[100]\ttrain-logloss:0.096139\tval-logloss:0.100497\n",
      "[110]\ttrain-logloss:0.095833\tval-logloss:0.100414\n",
      "[120]\ttrain-logloss:0.095541\tval-logloss:0.100335\n",
      "[130]\ttrain-logloss:0.095249\tval-logloss:0.100241\n",
      "[140]\ttrain-logloss:0.094991\tval-logloss:0.100185\n",
      "[150]\ttrain-logloss:0.094723\tval-logloss:0.100141\n",
      "[160]\ttrain-logloss:0.094495\tval-logloss:0.100096\n",
      "[170]\ttrain-logloss:0.094287\tval-logloss:0.10008\n",
      "[180]\ttrain-logloss:0.094085\tval-logloss:0.100049\n",
      "[190]\ttrain-logloss:0.093901\tval-logloss:0.100011\n",
      "[200]\ttrain-logloss:0.093691\tval-logloss:0.099975\n",
      "[210]\ttrain-logloss:0.093505\tval-logloss:0.099964\n",
      "[220]\ttrain-logloss:0.093297\tval-logloss:0.099943\n",
      "[230]\ttrain-logloss:0.093144\tval-logloss:0.099929\n",
      "[240]\ttrain-logloss:0.092968\tval-logloss:0.099915\n",
      "[250]\ttrain-logloss:0.092785\tval-logloss:0.099905\n",
      "[260]\ttrain-logloss:0.092622\tval-logloss:0.099904\n",
      "[270]\ttrain-logloss:0.092473\tval-logloss:0.099903\n",
      "Stopping. Best iteration:\n",
      "[253]\ttrain-logloss:0.092724\tval-logloss:0.0999\n",
      "\n"
     ]
    }
   ],
   "source": [
    "#offline\n",
    "dtrain = xgb.DMatrix(X_train, y)\n",
    "dval = xgb.DMatrix(X_test, y_test)\n",
    "watchlist = [(dtrain, 'train'), (dval, 'val')]\n",
    "clf = xgb.train(params, dtrain,\n",
    "                num_boost_round=300,\n",
    "                early_stopping_rounds=20,\n",
    "                evals=watchlist,\n",
    "                verbose_eval=10)"
   ]
  },
  {
   "cell_type": "code",
   "execution_count": 13,
   "metadata": {
    "collapsed": false,
    "scrolled": true
   },
   "outputs": [],
   "source": [
    "#online\n",
    "dtrain = xgb.DMatrix(X_train, y)\n",
    "dval = xgb.DMatrix(X_train, y)\n",
    "watchlist = [(dtrain, 'train'), (dval, 'val')]\n",
    "#1,1*best_round"
   ]
  },
  {
   "cell_type": "code",
   "execution_count": 10,
   "metadata": {
    "collapsed": false,
    "scrolled": true
   },
   "outputs": [
    {
     "name": "stdout",
     "output_type": "stream",
     "text": [
      "[0]\ttrain-logloss:0.607498\tval-logloss:0.607498\n",
      "Multiple eval metrics have been passed: 'val-logloss' will be used for early stopping.\n",
      "\n",
      "Will train until val-logloss hasn't improved in 20 rounds.\n",
      "[10]\ttrain-logloss:0.23315\tval-logloss:0.23315\n",
      "[20]\ttrain-logloss:0.139064\tval-logloss:0.139064\n",
      "[30]\ttrain-logloss:0.111693\tval-logloss:0.111693\n",
      "[40]\ttrain-logloss:0.103244\tval-logloss:0.103244\n",
      "[50]\ttrain-logloss:0.10045\tval-logloss:0.10045\n",
      "[60]\ttrain-logloss:0.09932\tval-logloss:0.09932\n",
      "[70]\ttrain-logloss:0.098716\tval-logloss:0.098716\n",
      "[80]\ttrain-logloss:0.098236\tval-logloss:0.098236\n",
      "[90]\ttrain-logloss:0.097842\tval-logloss:0.097842\n",
      "[100]\ttrain-logloss:0.097428\tval-logloss:0.097428\n",
      "[110]\ttrain-logloss:0.097109\tval-logloss:0.097109\n",
      "[120]\ttrain-logloss:0.096811\tval-logloss:0.096811\n",
      "[130]\ttrain-logloss:0.096536\tval-logloss:0.096536\n",
      "[140]\ttrain-logloss:0.096279\tval-logloss:0.096279\n",
      "[150]\ttrain-logloss:0.096078\tval-logloss:0.096078\n",
      "[160]\ttrain-logloss:0.09588\tval-logloss:0.09588\n",
      "[170]\ttrain-logloss:0.095643\tval-logloss:0.095643\n",
      "[180]\ttrain-logloss:0.095384\tval-logloss:0.095384\n",
      "[190]\ttrain-logloss:0.095177\tval-logloss:0.095177\n",
      "[200]\ttrain-logloss:0.095009\tval-logloss:0.095009\n",
      "[210]\ttrain-logloss:0.094831\tval-logloss:0.094831\n",
      "[220]\ttrain-logloss:0.094659\tval-logloss:0.094659\n",
      "[230]\ttrain-logloss:0.094482\tval-logloss:0.094482\n",
      "[240]\ttrain-logloss:0.09431\tval-logloss:0.09431\n",
      "[250]\ttrain-logloss:0.094175\tval-logloss:0.094175\n",
      "[260]\ttrain-logloss:0.094022\tval-logloss:0.094022\n"
     ]
    }
   ],
   "source": [
    "clf = xgb.train(params, dtrain,\n",
    "                num_boost_round=270,\n",
    "                early_stopping_rounds=20,\n",
    "                evals=watchlist,\n",
    "                verbose_eval=10)"
   ]
  },
  {
   "cell_type": "code",
   "execution_count": 14,
   "metadata": {
    "collapsed": false,
    "scrolled": true
   },
   "outputs": [
    {
     "name": "stdout",
     "output_type": "stream",
     "text": [
      "[0]\ttrain-logloss:0.607544\tval-logloss:0.607544\n",
      "Multiple eval metrics have been passed: 'val-logloss' will be used for early stopping.\n",
      "\n",
      "Will train until val-logloss hasn't improved in 20 rounds.\n",
      "[10]\ttrain-logloss:0.233485\tval-logloss:0.233485\n",
      "[20]\ttrain-logloss:0.139313\tval-logloss:0.139313\n",
      "[30]\ttrain-logloss:0.111852\tval-logloss:0.111852\n",
      "[40]\ttrain-logloss:0.103623\tval-logloss:0.103623\n",
      "[50]\ttrain-logloss:0.100859\tval-logloss:0.100859\n",
      "[60]\ttrain-logloss:0.099772\tval-logloss:0.099772\n",
      "[70]\ttrain-logloss:0.099156\tval-logloss:0.099156\n",
      "[80]\ttrain-logloss:0.098699\tval-logloss:0.098699\n",
      "[90]\ttrain-logloss:0.098356\tval-logloss:0.098356\n",
      "[100]\ttrain-logloss:0.097936\tval-logloss:0.097936\n",
      "[110]\ttrain-logloss:0.097595\tval-logloss:0.097595\n",
      "[120]\ttrain-logloss:0.097307\tval-logloss:0.097307\n",
      "[130]\ttrain-logloss:0.097083\tval-logloss:0.097083\n",
      "[140]\ttrain-logloss:0.096871\tval-logloss:0.096871\n",
      "[150]\ttrain-logloss:0.096679\tval-logloss:0.096679\n",
      "[160]\ttrain-logloss:0.096451\tval-logloss:0.096451\n",
      "[170]\ttrain-logloss:0.096276\tval-logloss:0.096276\n",
      "[180]\ttrain-logloss:0.096073\tval-logloss:0.096073\n",
      "[190]\ttrain-logloss:0.095926\tval-logloss:0.095926\n",
      "[200]\ttrain-logloss:0.095758\tval-logloss:0.095758\n",
      "[210]\ttrain-logloss:0.095561\tval-logloss:0.095561\n",
      "[220]\ttrain-logloss:0.095396\tval-logloss:0.095396\n",
      "[230]\ttrain-logloss:0.095243\tval-logloss:0.095243\n",
      "[240]\ttrain-logloss:0.095089\tval-logloss:0.095089\n",
      "[250]\ttrain-logloss:0.094964\tval-logloss:0.094964\n",
      "[260]\ttrain-logloss:0.094844\tval-logloss:0.094844\n",
      "[270]\ttrain-logloss:0.094693\tval-logloss:0.094693\n",
      "[280]\ttrain-logloss:0.094557\tval-logloss:0.094557\n",
      "[290]\ttrain-logloss:0.094426\tval-logloss:0.094426\n",
      "[300]\ttrain-logloss:0.094282\tval-logloss:0.094282\n",
      "[310]\ttrain-logloss:0.094163\tval-logloss:0.094163\n",
      "[320]\ttrain-logloss:0.094068\tval-logloss:0.094068\n",
      "[330]\ttrain-logloss:0.093955\tval-logloss:0.093955\n",
      "[340]\ttrain-logloss:0.093832\tval-logloss:0.093832\n"
     ]
    }
   ],
   "source": [
    "clf = xgb.train(params, dtrain,\n",
    "                num_boost_round=350,\n",
    "                early_stopping_rounds=20,\n",
    "                evals=watchlist,\n",
    "                verbose_eval=10)"
   ]
  },
  {
   "cell_type": "code",
   "execution_count": 15,
   "metadata": {
    "collapsed": false
   },
   "outputs": [
    {
     "name": "stdout",
     "output_type": "stream",
     "text": [
      "0.024987\n"
     ]
    }
   ],
   "source": [
    "dtest = xgb.DMatrix(X_test)\n",
    "res = clf.predict(dtest)\n",
    "print(np.mean(res))"
   ]
  },
  {
   "cell_type": "code",
   "execution_count": 16,
   "metadata": {
    "collapsed": true
   },
   "outputs": [],
   "source": [
    "result = pd.read_csv('../result/demo_result.csv',index_col=['instanceID'])\n",
    "result['prob'] = res\n",
    "# result['prob'] = result['prob'].apply(adj)\n",
    "\n",
    "result.to_csv('./res/xgb_6_28_iter_350.csv')"
   ]
  },
  {
   "cell_type": "code",
   "execution_count": 19,
   "metadata": {
    "collapsed": false
   },
   "outputs": [
    {
     "data": {
      "text/plain": [
       "0.024987027"
      ]
     },
     "execution_count": 19,
     "metadata": {},
     "output_type": "execute_result"
    }
   ],
   "source": [
    "np.mean(res)"
   ]
  },
  {
   "cell_type": "code",
   "execution_count": 22,
   "metadata": {
    "collapsed": false
   },
   "outputs": [
    {
     "data": {
      "text/plain": [
       "0.024987027"
      ]
     },
     "execution_count": 22,
     "metadata": {},
     "output_type": "execute_result"
    }
   ],
   "source": [
    "np.mean(res)"
   ]
  },
  {
   "cell_type": "code",
   "execution_count": 21,
   "metadata": {
    "collapsed": false
   },
   "outputs": [
    {
     "data": {
      "text/html": [
       "<div>\n",
       "<table border=\"1\" class=\"dataframe\">\n",
       "  <thead>\n",
       "    <tr style=\"text-align: right;\">\n",
       "      <th></th>\n",
       "      <th>prob</th>\n",
       "    </tr>\n",
       "  </thead>\n",
       "  <tbody>\n",
       "    <tr>\n",
       "      <th>count</th>\n",
       "      <td>3.321748e+06</td>\n",
       "    </tr>\n",
       "    <tr>\n",
       "      <th>mean</th>\n",
       "      <td>2.488538e-02</td>\n",
       "    </tr>\n",
       "    <tr>\n",
       "      <th>std</th>\n",
       "      <td>4.141779e-02</td>\n",
       "    </tr>\n",
       "    <tr>\n",
       "      <th>min</th>\n",
       "      <td>5.996474e-07</td>\n",
       "    </tr>\n",
       "    <tr>\n",
       "      <th>25%</th>\n",
       "      <td>1.598774e-03</td>\n",
       "    </tr>\n",
       "    <tr>\n",
       "      <th>50%</th>\n",
       "      <td>1.063640e-02</td>\n",
       "    </tr>\n",
       "    <tr>\n",
       "      <th>75%</th>\n",
       "      <td>3.190567e-02</td>\n",
       "    </tr>\n",
       "    <tr>\n",
       "      <th>max</th>\n",
       "      <td>8.918992e-01</td>\n",
       "    </tr>\n",
       "  </tbody>\n",
       "</table>\n",
       "</div>"
      ],
      "text/plain": [
       "               prob\n",
       "count  3.321748e+06\n",
       "mean   2.488538e-02\n",
       "std    4.141779e-02\n",
       "min    5.996474e-07\n",
       "25%    1.598774e-03\n",
       "50%    1.063640e-02\n",
       "75%    3.190567e-02\n",
       "max    8.918992e-01"
      ]
     },
     "execution_count": 21,
     "metadata": {},
     "output_type": "execute_result"
    }
   ],
   "source": [
    "result.describe()"
   ]
  },
  {
   "cell_type": "code",
   "execution_count": 13,
   "metadata": {
    "collapsed": true
   },
   "outputs": [],
   "source": [
    "result.to_csv('./res/xgb_6_27_submission_4day.csv')"
   ]
  },
  {
   "cell_type": "code",
   "execution_count": null,
   "metadata": {
    "collapsed": true
   },
   "outputs": [],
   "source": []
  },
  {
   "cell_type": "code",
   "execution_count": 7,
   "metadata": {
    "collapsed": false,
    "scrolled": true
   },
   "outputs": [],
   "source": [
    "skf = KFold(n_splits=5, shuffle=True, random_state=1123).split(y)\n",
    "dtest = xgb.DMatrix(X_test)\n"
   ]
  },
  {
   "cell_type": "code",
   "execution_count": 8,
   "metadata": {
    "collapsed": false,
    "scrolled": true
   },
   "outputs": [
    {
     "name": "stdout",
     "output_type": "stream",
     "text": [
      "[0]\ttrain-logloss:0.607501\tval-logloss:0.607488\n",
      "Multiple eval metrics have been passed: 'val-logloss' will be used for early stopping.\n",
      "\n",
      "Will train until val-logloss hasn't improved in 20 rounds.\n",
      "[10]\ttrain-logloss:0.23324\tval-logloss:0.233214\n",
      "[20]\ttrain-logloss:0.138959\tval-logloss:0.139042\n",
      "[30]\ttrain-logloss:0.111559\tval-logloss:0.111834\n",
      "[40]\ttrain-logloss:0.103094\tval-logloss:0.103587\n",
      "[50]\ttrain-logloss:0.100345\tval-logloss:0.101041\n",
      "[60]\ttrain-logloss:0.099222\tval-logloss:0.100109\n",
      "[70]\ttrain-logloss:0.098565\tval-logloss:0.099631\n",
      "[80]\ttrain-logloss:0.0981\tval-logloss:0.099331\n",
      "[90]\ttrain-logloss:0.09765\tval-logloss:0.099118\n",
      "[100]\ttrain-logloss:0.097268\tval-logloss:0.098951\n",
      "[110]\ttrain-logloss:0.096929\tval-logloss:0.098801\n",
      "[120]\ttrain-logloss:0.096592\tval-logloss:0.098704\n",
      "[130]\ttrain-logloss:0.096334\tval-logloss:0.098631\n",
      "[140]\ttrain-logloss:0.096036\tval-logloss:0.098558\n",
      "[150]\ttrain-logloss:0.095848\tval-logloss:0.098524\n",
      "[160]\ttrain-logloss:0.095623\tval-logloss:0.09847\n",
      "[170]\ttrain-logloss:0.095439\tval-logloss:0.098441\n",
      "0.0250728\n"
     ]
    },
    {
     "ename": "NameError",
     "evalue": "name 'res' is not defined",
     "output_type": "error",
     "traceback": [
      "\u001b[0;31m---------------------------------------------------------------------------\u001b[0m",
      "\u001b[0;31mNameError\u001b[0m                                 Traceback (most recent call last)",
      "\u001b[0;32m<ipython-input-8-9cbd247f64a5>\u001b[0m in \u001b[0;36m<module>\u001b[0;34m()\u001b[0m\n\u001b[1;32m     17\u001b[0m     \u001b[0mpd\u001b[0m\u001b[0;34m.\u001b[0m\u001b[0mto_pickle\u001b[0m\u001b[0;34m(\u001b[0m\u001b[0mtmp_res\u001b[0m\u001b[0;34m,\u001b[0m\u001b[0;34m'./res/xgb_fold{0}.pkl'\u001b[0m\u001b[0;34m.\u001b[0m\u001b[0mformat\u001b[0m\u001b[0;34m(\u001b[0m\u001b[0mfold\u001b[0m\u001b[0;34m)\u001b[0m\u001b[0;34m)\u001b[0m\u001b[0;34m\u001b[0m\u001b[0m\n\u001b[1;32m     18\u001b[0m     \u001b[0mprint\u001b[0m\u001b[0;34m(\u001b[0m\u001b[0mnp\u001b[0m\u001b[0;34m.\u001b[0m\u001b[0mmean\u001b[0m\u001b[0;34m(\u001b[0m\u001b[0mtmp_res\u001b[0m\u001b[0;34m)\u001b[0m\u001b[0;34m)\u001b[0m\u001b[0;34m\u001b[0m\u001b[0m\n\u001b[0;32m---> 19\u001b[0;31m     \u001b[0mres\u001b[0m\u001b[0;34m+=\u001b[0m\u001b[0mtmp_res\u001b[0m\u001b[0;34m\u001b[0m\u001b[0m\n\u001b[0m\u001b[1;32m     20\u001b[0m     \u001b[0mfold\u001b[0m \u001b[0;34m=\u001b[0m \u001b[0mfold\u001b[0m\u001b[0;34m+\u001b[0m\u001b[0;36m1\u001b[0m\u001b[0;34m\u001b[0m\u001b[0m\n\u001b[1;32m     21\u001b[0m \u001b[0mres\u001b[0m\u001b[0;34m/=\u001b[0m\u001b[0;36m5.0\u001b[0m\u001b[0;34m\u001b[0m\u001b[0m\n",
      "\u001b[0;31mNameError\u001b[0m: name 'res' is not defined"
     ]
    }
   ],
   "source": [
    "fold = 0\n",
    "for ind_tr, ind_te in skf:\n",
    "    X_ot_train = X_train[ind_tr]\n",
    "    X_ot_test=X_train[ind_te]\n",
    "    y_train = y[ind_tr]\n",
    "    y_test = y[ind_te]\n",
    "    dtrain = xgb.DMatrix(X_ot_train, y_train)\n",
    "    dval = xgb.DMatrix(X_ot_test, y_test)\n",
    "    watchlist = [(dtrain, 'train'), (dval, 'val')]\n",
    "    clf = xgb.train(params, dtrain,\n",
    "                    num_boost_round=180,\n",
    "                    early_stopping_rounds=20,\n",
    "                    evals=watchlist,\n",
    "                    verbose_eval=10)\n",
    "    del dtrain,dval\n",
    "    tmp_res = clf.predict(dtest)\n",
    "    pd.to_pickle(tmp_res,'./res/xgb_fold{0}.pkl'.format(fold))\n",
    "    print(np.mean(tmp_res))\n",
    "    res+=tmp_res\n",
    "    fold = fold+1\n",
    "res/=5.0"
   ]
  },
  {
   "cell_type": "code",
   "execution_count": 30,
   "metadata": {
    "collapsed": false
   },
   "outputs": [
    {
     "name": "stdout",
     "output_type": "stream",
     "text": [
      "0.0250432\n",
      "0.0249957\n",
      "0.025126\n",
      "0.025098\n",
      "0.025017\n",
      "0.025056\n"
     ]
    }
   ],
   "source": [
    "res = 0\n",
    "for f in range(5):\n",
    "    tmp_res=pd.read_pickle('./res/xgb_fold{0}.pkl'.format(f))\n",
    "    print(np.mean(tmp_res))\n",
    "    res+=tmp_res\n",
    "res/=5.0\n",
    "print(np.mean(res))"
   ]
  },
  {
   "cell_type": "code",
   "execution_count": 31,
   "metadata": {
    "collapsed": false
   },
   "outputs": [
    {
     "data": {
      "text/plain": [
       "array([ 0.02392305,  0.00148875,  0.00064256, ...,  0.05364005,\n",
       "        0.00725566,  0.00102117], dtype=float32)"
      ]
     },
     "execution_count": 31,
     "metadata": {},
     "output_type": "execute_result"
    }
   ],
   "source": [
    "res"
   ]
  },
  {
   "cell_type": "code",
   "execution_count": 14,
   "metadata": {
    "collapsed": true
   },
   "outputs": [],
   "source": [
    "def inverse_logit(x):\n",
    "    return np.log(x/(1-x))\n",
    "def logit(x):\n",
    "    return 1/(1+np.exp(-x))\n",
    "def calibration(pred,avg):\n",
    "    intercept = inverse_logit(np.mean(pred))- inverse_logit(avg)\n",
    "    return logit(inverse_logit(pred) - intercept)"
   ]
  },
  {
   "cell_type": "code",
   "execution_count": 15,
   "metadata": {
    "collapsed": true
   },
   "outputs": [],
   "source": [
    "res = calibration(res,0.027232030146226993)"
   ]
  },
  {
   "cell_type": "code",
   "execution_count": 16,
   "metadata": {
    "collapsed": true
   },
   "outputs": [],
   "source": [
    "result = pd.read_csv('../result/demo_result.csv',index_col=['instanceID'])\n",
    "result['prob'] = res\n",
    "# result['prob'] = result['prob'].apply(adj)\n",
    "\n",
    "result.to_csv('./res/xgb_6_27_calibation.csv')"
   ]
  },
  {
   "cell_type": "code",
   "execution_count": 17,
   "metadata": {
    "collapsed": false
   },
   "outputs": [
    {
     "data": {
      "text/html": [
       "<div>\n",
       "<table border=\"1\" class=\"dataframe\">\n",
       "  <thead>\n",
       "    <tr style=\"text-align: right;\">\n",
       "      <th></th>\n",
       "      <th>prob</th>\n",
       "    </tr>\n",
       "  </thead>\n",
       "  <tbody>\n",
       "    <tr>\n",
       "      <th>count</th>\n",
       "      <td>3.321748e+06</td>\n",
       "    </tr>\n",
       "    <tr>\n",
       "      <th>mean</th>\n",
       "      <td>2.695235e-02</td>\n",
       "    </tr>\n",
       "    <tr>\n",
       "      <th>std</th>\n",
       "      <td>4.346146e-02</td>\n",
       "    </tr>\n",
       "    <tr>\n",
       "      <th>min</th>\n",
       "      <td>1.464321e-06</td>\n",
       "    </tr>\n",
       "    <tr>\n",
       "      <th>25%</th>\n",
       "      <td>1.833458e-03</td>\n",
       "    </tr>\n",
       "    <tr>\n",
       "      <th>50%</th>\n",
       "      <td>1.179965e-02</td>\n",
       "    </tr>\n",
       "    <tr>\n",
       "      <th>75%</th>\n",
       "      <td>3.520554e-02</td>\n",
       "    </tr>\n",
       "    <tr>\n",
       "      <th>max</th>\n",
       "      <td>8.890951e-01</td>\n",
       "    </tr>\n",
       "  </tbody>\n",
       "</table>\n",
       "</div>"
      ],
      "text/plain": [
       "               prob\n",
       "count  3.321748e+06\n",
       "mean   2.695235e-02\n",
       "std    4.346146e-02\n",
       "min    1.464321e-06\n",
       "25%    1.833458e-03\n",
       "50%    1.179965e-02\n",
       "75%    3.520554e-02\n",
       "max    8.890951e-01"
      ]
     },
     "execution_count": 17,
     "metadata": {},
     "output_type": "execute_result"
    }
   ],
   "source": [
    "result.describe()"
   ]
  },
  {
   "cell_type": "code",
   "execution_count": 33,
   "metadata": {
    "collapsed": false
   },
   "outputs": [],
   "source": [
    "res = calibration(res,0.027232030146226993)\n",
    "result = pd.read_csv('../result/demo_result.csv',index_col=['instanceID'])\n",
    "result['prob'] = res\n",
    "# result['prob'] = result['prob'].apply(adj)\n",
    "\n",
    "result.to_csv('./res/xgb_6_25_submission_adj.csv')"
   ]
  },
  {
   "cell_type": "code",
   "execution_count": 34,
   "metadata": {
    "collapsed": false
   },
   "outputs": [
    {
     "data": {
      "text/html": [
       "<div>\n",
       "<table border=\"1\" class=\"dataframe\">\n",
       "  <thead>\n",
       "    <tr style=\"text-align: right;\">\n",
       "      <th></th>\n",
       "      <th>prob</th>\n",
       "    </tr>\n",
       "  </thead>\n",
       "  <tbody>\n",
       "    <tr>\n",
       "      <th>count</th>\n",
       "      <td>3.321748e+06</td>\n",
       "    </tr>\n",
       "    <tr>\n",
       "      <th>mean</th>\n",
       "      <td>2.698495e-02</td>\n",
       "    </tr>\n",
       "    <tr>\n",
       "      <th>std</th>\n",
       "      <td>4.054799e-02</td>\n",
       "    </tr>\n",
       "    <tr>\n",
       "      <th>min</th>\n",
       "      <td>1.120272e-05</td>\n",
       "    </tr>\n",
       "    <tr>\n",
       "      <th>25%</th>\n",
       "      <td>2.325138e-03</td>\n",
       "    </tr>\n",
       "    <tr>\n",
       "      <th>50%</th>\n",
       "      <td>1.317475e-02</td>\n",
       "    </tr>\n",
       "    <tr>\n",
       "      <th>75%</th>\n",
       "      <td>3.594951e-02</td>\n",
       "    </tr>\n",
       "    <tr>\n",
       "      <th>max</th>\n",
       "      <td>8.540689e-01</td>\n",
       "    </tr>\n",
       "  </tbody>\n",
       "</table>\n",
       "</div>"
      ],
      "text/plain": [
       "               prob\n",
       "count  3.321748e+06\n",
       "mean   2.698495e-02\n",
       "std    4.054799e-02\n",
       "min    1.120272e-05\n",
       "25%    2.325138e-03\n",
       "50%    1.317475e-02\n",
       "75%    3.594951e-02\n",
       "max    8.540689e-01"
      ]
     },
     "execution_count": 34,
     "metadata": {},
     "output_type": "execute_result"
    }
   ],
   "source": [
    "result.describe()"
   ]
  },
  {
   "cell_type": "code",
   "execution_count": null,
   "metadata": {
    "collapsed": true
   },
   "outputs": [],
   "source": []
  }
 ],
 "metadata": {
  "kernelspec": {
   "display_name": "Python 3",
   "language": "python",
   "name": "python3"
  },
  "language_info": {
   "codemirror_mode": {
    "name": "ipython",
    "version": 3
   },
   "file_extension": ".py",
   "mimetype": "text/x-python",
   "name": "python",
   "nbconvert_exporter": "python",
   "pygments_lexer": "ipython3",
   "version": "3.6.0"
  }
 },
 "nbformat": 4,
 "nbformat_minor": 2
}
