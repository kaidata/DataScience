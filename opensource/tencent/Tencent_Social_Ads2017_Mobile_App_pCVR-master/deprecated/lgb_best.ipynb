{
 "cells": [
  {
   "cell_type": "code",
   "execution_count": 1,
   "metadata": {
    "collapsed": false
   },
   "outputs": [
    {
     "name": "stderr",
     "output_type": "stream",
     "text": [
      "/home/shenweichen/anaconda3/lib/python3.6/site-packages/sklearn/cross_validation.py:44: DeprecationWarning: This module was deprecated in version 0.18 in favor of the model_selection module into which all the refactored classes and functions are moved. Also note that the interface of the new CV iterators are different from that of this module. This module will be removed in 0.20.\n",
      "  \"This module will be removed in 0.20.\", DeprecationWarning)\n"
     ]
    }
   ],
   "source": [
    "import pandas as pd\n",
    "import numpy as np\n",
    "import time\n",
    "import os\n",
    "import zipfile\n",
    "import pickle\n",
    "from collections import Counter\n",
    "from tqdm import tqdm\n",
    "import numpy as np\n",
    "import pandas as pd\n",
    "from sklearn.linear_model import (LogisticRegression,SGDClassifier)\n",
    "from sklearn.metrics import log_loss,precision_score,f1_score,recall_score\n",
    "from lightgbm import LGBMClassifier,LGBMRegressor\n",
    "import lightgbm as lgb\n",
    "import xgboost as xgb\n",
    "from xgboost.sklearn import XGBClassifier"
   ]
  },
  {
   "cell_type": "code",
   "execution_count": 13,
   "metadata": {
    "collapsed": true
   },
   "outputs": [],
   "source": [
    "seed = 1024\n",
    "\n",
    "path = './X_v2/'\n",
    "\n",
    "\n",
    "def read_data(mode='train'):\n",
    "    if mode=='train':\n",
    "        df_basic = pd.read_pickle(path+'online_'+mode+'_x_26_29'+'.pkl.6.26')\n",
    "    else:\n",
    "        df_basic = pd.read_pickle(path + 'online_' + mode + '_x_31_31' + '.pkl.6.26')\n",
    "    return df_basic"
   ]
  },
  {
   "cell_type": "code",
   "execution_count": 14,
   "metadata": {
    "collapsed": false,
    "scrolled": true
   },
   "outputs": [
    {
     "name": "stdout",
     "output_type": "stream",
     "text": [
      "(11947463, 134) (3321748, 133)\n"
     ]
    }
   ],
   "source": [
    "train_off = read_data('train')\n",
    "test_off = read_data('test')\n",
    "print(train_off.shape,test_off.shape)"
   ]
  },
  {
   "cell_type": "code",
   "execution_count": 15,
   "metadata": {
    "collapsed": true
   },
   "outputs": [],
   "source": [
    "train_gl_trick = pd.read_pickle('./X_v2/train_on_trick_global.pkl')\n",
    "test_gl_trick = pd.read_pickle('./X_v2/test_on_trick_global.pkl')"
   ]
  },
  {
   "cell_type": "code",
   "execution_count": 16,
   "metadata": {
    "collapsed": false,
    "scrolled": true
   },
   "outputs": [],
   "source": [
    "train_gl_trick.index = train_off.index\n",
    "test_gl_trick.index = test_off.index\n",
    "train_off = pd.concat([train_off,train_gl_trick],axis=1)\n",
    "test_off = pd.concat([test_off,test_gl_trick],axis=1)"
   ]
  },
  {
   "cell_type": "code",
   "execution_count": 17,
   "metadata": {
    "collapsed": false
   },
   "outputs": [],
   "source": [
    "feature_names = [#'creativeID', 'userID',\n",
    "                 'positionID', 'connectionType', 'telecomsOperator', 'age', 'gender',\n",
    "                 'education', 'marriageStatus', 'haveBaby', 'ht_province',\n",
    "                 'rd_province', 'sitesetID', 'positionType', 'adID',\n",
    "                 'camgaignID', 'advertiserID', 'appID', 'appPlatform',\n",
    "                 # 'user_start_install_cate_0',\n",
    "                 'user_start_install_cate_1',\n",
    "                 'user_start_install_cate_2', 'user_start_install_cate_3',\n",
    "                 'user_start_install_cate_4', 'user_start_install_cate_5',\n",
    "\n",
    "                 'appCategory', 'trick', 'first_diff', 'last_diff', 'user_hist_install', 'clickHour',\n",
    "                 'user_adID_click_day', 'user_adID_click_hour',\n",
    "                 'user_camgaignID_click_day', 'user_camgaignID_click_hour',\n",
    "                 'user_appID_click_day', 'user_appID_click_hour',\n",
    "\n",
    "                 'user_sitesetID_click_day',\n",
    "                 'user_sitesetID_click_hour', 'user_click_day',\n",
    "\n",
    "                 'positionID_cvr_smooth', 'creativeID_cvr', 'userID_cvr', 'adID_cvr', 'appID_cvr',\n",
    "                 'positionID_sum_count', 'creativeID_sum_count', 'appID_sum_count',\n",
    "                 'adID_sum_count', 'userID_sum_count',\n",
    "                 'user_ad_click_day_mean', 'user_ad_click_day_min',\n",
    "                 'user_camgaign_click_day_min', 'user_app_click_day_mean',\n",
    "                 'user_app_click_day_max', 'user_app_click_day_min',\n",
    "                 'user_site_click_day_mean', 'user_site_click_day_max',\n",
    "                 'user_site_click_day_min', 'user_click_day_mean', 'user_click_day_max', 'user_click_day_min',\n",
    "                 'advertiserID_user_clicks_age_cut_0',\n",
    "                 'advertiserID_user_clicks_age_cut_1',\n",
    "                 'advertiserID_user_clicks_age_cut_2',\n",
    "                 'advertiserID_user_clicks_age_cut_3',\n",
    "                 'advertiserID_user_clicks_age_cut_4',\n",
    "                 'advertiserID_user_clicks_age_cut_5',\n",
    "                 'advertiserID_user_clicks_age_cut_6',\n",
    "                 'advertiserID_user_clicks_age_cut_7',\n",
    "                 'advertiserID_user_clicks_gender_0',\n",
    "                 'advertiserID_user_clicks_gender_1',\n",
    "                 'advertiserID_user_clicks_gender_2',\n",
    "                 'advertiserID_user_clicks_education_0',\n",
    "                 'advertiserID_user_clicks_education_1',\n",
    "                 'advertiserID_user_clicks_education_2',\n",
    "                 'advertiserID_user_clicks_education_3',\n",
    "                 'advertiserID_user_clicks_education_4',\n",
    "                 'advertiserID_user_clicks_education_5',\n",
    "                 'advertiserID_user_clicks_education_6',\n",
    "                 'advertiserID_user_clicks_education_7',\n",
    "                 'advertiserID_user_clicks_marriageStatus_0',\n",
    "                 'advertiserID_user_clicks_marriageStatus_1',\n",
    "                 'advertiserID_user_clicks_marriageStatus_2',\n",
    "                 'advertiserID_user_clicks_marriageStatus_3',\n",
    "\n",
    "                 'appID_user_clicks_age_cut_0', 'appID_user_clicks_age_cut_1',\n",
    "                 'appID_user_clicks_age_cut_2', 'appID_user_clicks_age_cut_3',\n",
    "                 'appID_user_clicks_age_cut_4', 'appID_user_clicks_age_cut_5',\n",
    "                 'appID_user_clicks_age_cut_6', 'appID_user_clicks_age_cut_7',\n",
    "                 'appID_user_clicks_gender_0', 'appID_user_clicks_gender_1',\n",
    "                 'appID_user_clicks_gender_2', 'appID_user_clicks_education_0',\n",
    "                 'appID_user_clicks_education_1', 'appID_user_clicks_education_2',\n",
    "                 'appID_user_clicks_education_3', 'appID_user_clicks_education_4',\n",
    "                 'appID_user_clicks_education_5', 'appID_user_clicks_education_6',\n",
    "                 'appID_user_clicks_education_7', 'appID_user_clicks_marriageStatus_0',\n",
    "                 'appID_user_clicks_marriageStatus_1',\n",
    "                 'appID_user_clicks_marriageStatus_2',\n",
    "                 'appID_user_clicks_marriageStatus_3',\n",
    "                 'appID_user_clicks_haveBaby_0',\n",
    "                 'appID_user_clicks_haveBaby_1', 'appID_user_clicks_haveBaby_2',\n",
    "                 'appID_user_clicks_haveBaby_3', 'appID_user_clicks_haveBaby_4',\n",
    "                 'appID_user_clicks_haveBaby_5', 'appID_user_clicks_haveBaby_6','install2click','global_uct_cnt','global_first',\n",
    "'global_last']"
   ]
  },
  {
   "cell_type": "code",
   "execution_count": 18,
   "metadata": {
    "collapsed": true
   },
   "outputs": [],
   "source": [
    "cate_features = []"
   ]
  },
  {
   "cell_type": "code",
   "execution_count": 20,
   "metadata": {
    "collapsed": true
   },
   "outputs": [],
   "source": [
    "clf = LGBMClassifier(num_leaves=110, max_depth=12,\n",
    "                     learning_rate=0.1, n_estimators=1200,\n",
    "                     seed=0, nthread=20, subsample=0.8, colsample_bytree=0.9,\n",
    "                     reg_lambda=0.005, )"
   ]
  },
  {
   "cell_type": "code",
   "execution_count": 24,
   "metadata": {
    "collapsed": false,
    "scrolled": true
   },
   "outputs": [
    {
     "name": "stdout",
     "output_type": "stream",
     "text": [
      "[10]\tvalid_0's binary_logloss: 0.251229\n",
      "[20]\tvalid_0's binary_logloss: 0.144581\n",
      "[30]\tvalid_0's binary_logloss: 0.113862\n",
      "[40]\tvalid_0's binary_logloss: 0.104689\n",
      "[50]\tvalid_0's binary_logloss: 0.10171\n",
      "[60]\tvalid_0's binary_logloss: 0.100512\n",
      "[70]\tvalid_0's binary_logloss: 0.0999067\n",
      "[80]\tvalid_0's binary_logloss: 0.0994477\n",
      "[90]\tvalid_0's binary_logloss: 0.0990955\n",
      "[100]\tvalid_0's binary_logloss: 0.098802\n",
      "[110]\tvalid_0's binary_logloss: 0.0985379\n",
      "[120]\tvalid_0's binary_logloss: 0.0983088\n",
      "[130]\tvalid_0's binary_logloss: 0.0981337\n",
      "[140]\tvalid_0's binary_logloss: 0.0979258\n",
      "[150]\tvalid_0's binary_logloss: 0.0977876\n",
      "[160]\tvalid_0's binary_logloss: 0.0976568\n",
      "[170]\tvalid_0's binary_logloss: 0.0975255\n",
      "[180]\tvalid_0's binary_logloss: 0.0973883\n",
      "[190]\tvalid_0's binary_logloss: 0.0972647\n",
      "[200]\tvalid_0's binary_logloss: 0.0971419\n",
      "[210]\tvalid_0's binary_logloss: 0.0970419\n",
      "[220]\tvalid_0's binary_logloss: 0.0969271\n",
      "[230]\tvalid_0's binary_logloss: 0.0968247\n",
      "[240]\tvalid_0's binary_logloss: 0.0967272\n",
      "[250]\tvalid_0's binary_logloss: 0.0966363\n",
      "[260]\tvalid_0's binary_logloss: 0.0965346\n",
      "[270]\tvalid_0's binary_logloss: 0.0964449\n",
      "[280]\tvalid_0's binary_logloss: 0.0963535\n",
      "[290]\tvalid_0's binary_logloss: 0.096259\n",
      "[300]\tvalid_0's binary_logloss: 0.0961783\n",
      "[310]\tvalid_0's binary_logloss: 0.0960914\n",
      "[320]\tvalid_0's binary_logloss: 0.0960078\n",
      "[330]\tvalid_0's binary_logloss: 0.0959269\n",
      "[340]\tvalid_0's binary_logloss: 0.0958406\n",
      "[350]\tvalid_0's binary_logloss: 0.0957573\n",
      "[360]\tvalid_0's binary_logloss: 0.0956725\n",
      "[370]\tvalid_0's binary_logloss: 0.095594\n",
      "[380]\tvalid_0's binary_logloss: 0.0955139\n",
      "[390]\tvalid_0's binary_logloss: 0.0954308\n",
      "[400]\tvalid_0's binary_logloss: 0.0953484\n",
      "[410]\tvalid_0's binary_logloss: 0.095269\n",
      "[420]\tvalid_0's binary_logloss: 0.0951998\n",
      "[430]\tvalid_0's binary_logloss: 0.0951187\n",
      "[440]\tvalid_0's binary_logloss: 0.0950455\n",
      "[450]\tvalid_0's binary_logloss: 0.0949694\n",
      "[460]\tvalid_0's binary_logloss: 0.0948927\n",
      "[470]\tvalid_0's binary_logloss: 0.0948138\n",
      "[480]\tvalid_0's binary_logloss: 0.0947348\n",
      "[490]\tvalid_0's binary_logloss: 0.0946645\n",
      "[500]\tvalid_0's binary_logloss: 0.0945975\n",
      "[510]\tvalid_0's binary_logloss: 0.0945214\n",
      "[520]\tvalid_0's binary_logloss: 0.0944447\n",
      "[530]\tvalid_0's binary_logloss: 0.0943727\n",
      "[540]\tvalid_0's binary_logloss: 0.0943035\n",
      "[550]\tvalid_0's binary_logloss: 0.0942432\n",
      "[560]\tvalid_0's binary_logloss: 0.0941759\n",
      "[570]\tvalid_0's binary_logloss: 0.0941091\n",
      "[580]\tvalid_0's binary_logloss: 0.0940373\n",
      "[590]\tvalid_0's binary_logloss: 0.0939705\n",
      "[600]\tvalid_0's binary_logloss: 0.0938999\n",
      "[610]\tvalid_0's binary_logloss: 0.0938273\n",
      "[620]\tvalid_0's binary_logloss: 0.0937586\n",
      "[630]\tvalid_0's binary_logloss: 0.0936893\n",
      "[640]\tvalid_0's binary_logloss: 0.0936266\n",
      "[650]\tvalid_0's binary_logloss: 0.0935618\n",
      "[660]\tvalid_0's binary_logloss: 0.0934959\n",
      "[670]\tvalid_0's binary_logloss: 0.093433\n",
      "[680]\tvalid_0's binary_logloss: 0.0933672\n",
      "[690]\tvalid_0's binary_logloss: 0.0933008\n",
      "[700]\tvalid_0's binary_logloss: 0.0932364\n",
      "[710]\tvalid_0's binary_logloss: 0.0931797\n",
      "[720]\tvalid_0's binary_logloss: 0.0931115\n",
      "[730]\tvalid_0's binary_logloss: 0.0930436\n",
      "[740]\tvalid_0's binary_logloss: 0.0929787\n",
      "[750]\tvalid_0's binary_logloss: 0.0929176\n",
      "[760]\tvalid_0's binary_logloss: 0.0928541\n",
      "[770]\tvalid_0's binary_logloss: 0.0927912\n",
      "[780]\tvalid_0's binary_logloss: 0.0927282\n",
      "[790]\tvalid_0's binary_logloss: 0.0926605\n",
      "[800]\tvalid_0's binary_logloss: 0.0925933\n",
      "[810]\tvalid_0's binary_logloss: 0.0925334\n",
      "[820]\tvalid_0's binary_logloss: 0.0924736\n",
      "[830]\tvalid_0's binary_logloss: 0.0924106\n",
      "[840]\tvalid_0's binary_logloss: 0.092351\n",
      "[850]\tvalid_0's binary_logloss: 0.0922854\n",
      "[860]\tvalid_0's binary_logloss: 0.0922185\n",
      "[870]\tvalid_0's binary_logloss: 0.0921581\n",
      "[880]\tvalid_0's binary_logloss: 0.0920958\n",
      "[890]\tvalid_0's binary_logloss: 0.0920383\n",
      "[900]\tvalid_0's binary_logloss: 0.0919747\n",
      "[910]\tvalid_0's binary_logloss: 0.0919172\n",
      "[920]\tvalid_0's binary_logloss: 0.0918568\n",
      "[930]\tvalid_0's binary_logloss: 0.0917966\n",
      "[940]\tvalid_0's binary_logloss: 0.0917347\n",
      "[950]\tvalid_0's binary_logloss: 0.0916713\n",
      "[960]\tvalid_0's binary_logloss: 0.0916116\n",
      "[970]\tvalid_0's binary_logloss: 0.0915545\n",
      "[980]\tvalid_0's binary_logloss: 0.0914944\n",
      "[990]\tvalid_0's binary_logloss: 0.091433\n",
      "[1000]\tvalid_0's binary_logloss: 0.0913776\n",
      "[1010]\tvalid_0's binary_logloss: 0.0913195\n",
      "[1020]\tvalid_0's binary_logloss: 0.0912601\n",
      "[1030]\tvalid_0's binary_logloss: 0.0911979\n",
      "[1040]\tvalid_0's binary_logloss: 0.0911393\n",
      "[1050]\tvalid_0's binary_logloss: 0.0910858\n",
      "[1060]\tvalid_0's binary_logloss: 0.0910273\n",
      "[1070]\tvalid_0's binary_logloss: 0.090977\n",
      "[1080]\tvalid_0's binary_logloss: 0.0909182\n",
      "[1090]\tvalid_0's binary_logloss: 0.0908626\n",
      "[1100]\tvalid_0's binary_logloss: 0.0908008\n",
      "[1110]\tvalid_0's binary_logloss: 0.090736\n",
      "[1120]\tvalid_0's binary_logloss: 0.0906795\n",
      "[1130]\tvalid_0's binary_logloss: 0.0906193\n",
      "[1140]\tvalid_0's binary_logloss: 0.0905639\n",
      "[1150]\tvalid_0's binary_logloss: 0.0905055\n",
      "[1160]\tvalid_0's binary_logloss: 0.0904552\n",
      "[1170]\tvalid_0's binary_logloss: 0.0903986\n",
      "[1180]\tvalid_0's binary_logloss: 0.0903396\n",
      "[1190]\tvalid_0's binary_logloss: 0.090289\n",
      "[1200]\tvalid_0's binary_logloss: 0.0902321\n"
     ]
    },
    {
     "data": {
      "text/plain": [
       "LGBMClassifier(boosting_type='gbdt', colsample_bytree=0.9, drop_rate=0.1,\n",
       "        is_unbalance=False, learning_rate=0.1, max_bin=255, max_depth=12,\n",
       "        max_drop=50, min_child_samples=10, min_child_weight=5,\n",
       "        min_split_gain=0, n_estimators=1200, nthread=20, num_leaves=110,\n",
       "        objective='binary', reg_alpha=0, reg_lambda=0.005,\n",
       "        scale_pos_weight=1, seed=0, sigmoid=1.0, silent=True,\n",
       "        skip_drop=0.5, subsample=0.8, subsample_for_bin=50000,\n",
       "        subsample_freq=1, uniform_drop=False, xgboost_dart_mode=False)"
      ]
     },
     "execution_count": 24,
     "metadata": {},
     "output_type": "execute_result"
    }
   ],
   "source": [
    "clf.fit(train_off[feature_names],train_off['label'].values,\n",
    "        eval_set=[(train_off[feature_names],train_off['label'])],\n",
    "             feature_name=feature_names,categorical_feature=cate_features,\n",
    "            verbose=10,\n",
    "           )"
   ]
  },
  {
   "cell_type": "code",
   "execution_count": 26,
   "metadata": {
    "collapsed": true
   },
   "outputs": [],
   "source": [
    "pred = clf.predict_proba(test_off[feature_names],num_iteration=1200)[:,1]"
   ]
  },
  {
   "cell_type": "code",
   "execution_count": 28,
   "metadata": {
    "collapsed": false
   },
   "outputs": [
    {
     "data": {
      "text/plain": [
       "0.025097932123325013"
      ]
     },
     "execution_count": 28,
     "metadata": {},
     "output_type": "execute_result"
    }
   ],
   "source": [
    "np.mean(pred)"
   ]
  },
  {
   "cell_type": "code",
   "execution_count": 29,
   "metadata": {
    "collapsed": true
   },
   "outputs": [],
   "source": [
    "result = pd.read_csv('../result/demo_result.csv',index_col=['instanceID'])\n",
    "result['prob'] = pred\n",
    "# result['prob'] = result['prob'].apply(adj)\n",
    "\n",
    "result.to_csv('./res/lgb_final.csv')"
   ]
  },
  {
   "cell_type": "code",
   "execution_count": null,
   "metadata": {
    "collapsed": true
   },
   "outputs": [],
   "source": []
  }
 ],
 "metadata": {
  "kernelspec": {
   "display_name": "Python 3",
   "language": "python",
   "name": "python3"
  },
  "language_info": {
   "codemirror_mode": {
    "name": "ipython",
    "version": 3
   },
   "file_extension": ".py",
   "mimetype": "text/x-python",
   "name": "python",
   "nbconvert_exporter": "python",
   "pygments_lexer": "ipython3",
   "version": "3.6.0"
  }
 },
 "nbformat": 4,
 "nbformat_minor": 2
}
