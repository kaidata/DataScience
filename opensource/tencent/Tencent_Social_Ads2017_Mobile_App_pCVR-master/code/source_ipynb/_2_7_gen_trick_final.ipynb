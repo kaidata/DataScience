{
 "cells": [
  {
   "cell_type": "code",
   "execution_count": 11,
   "metadata": {
    "collapsed": true
   },
   "outputs": [],
   "source": [
    "import os,gc\n",
    "import pandas as pd\n",
    "import numpy as np\n",
    "import scipy.stats as sps\n",
    "from tqdm import tqdm\n",
    "from feature_joint import addTime\n",
    "from utils import raw_data_path,feature_data_path"
   ]
  },
  {
   "cell_type": "code",
   "execution_count": 4,
   "metadata": {
    "collapsed": true
   },
   "outputs": [],
   "source": [
    "def generate_click_trick():\n",
    "    #df['origin_index'] = df.index\n",
    "    feature_path = feature_data_path + 'global_tricks.pkl'\n",
    "    if os.path.exists(feature_path):\n",
    "        print('found '+feature_path)\n",
    "    else:\n",
    "        train = pd.read_pickle(raw_data_path+'train.pkl')\n",
    "        test = pd.read_pickle(raw_data_path+'test.pkl')\n",
    "        df = train.append(test)\n",
    "        df = df[['global_index','creativeID','userID','label','clickTime',]]\n",
    "        del train,test\n",
    "        df = addTime(df)\n",
    "        gc.collect()\n",
    "        uct_cnt = df.groupby(['userID', 'creativeID']).size().reset_index()\n",
    "        uct_cnt.rename(columns={0: 'global_uct_cnt'}, inplace=True)\n",
    "        df = pd.merge(df, uct_cnt, how='left', on=['userID', 'creativeID'])\n",
    "\n",
    "        df_1 = df.sort_values(by=['userID', 'clickTime'], ascending=True)\n",
    "        first = df_1.drop_duplicates('userID')\n",
    "        first['global_first'] = 1\n",
    "        first = first[['userID','clickTime','global_first']]\n",
    "        df = pd.merge(df,first,how='left',on=['userID','clickTime'])\n",
    "\n",
    "        df_2 = df.sort_values(by=['userID', 'clickTime'], ascending=False)\n",
    "        last = df_2.drop_duplicates('userID')\n",
    "        last['global_last'] = 1\n",
    "        last = last[['userID', 'clickTime', 'global_last']]\n",
    "        df = pd.merge(df, last, how='left', on=['userID', 'clickTime'])\n",
    "        pd.to_pickle(df[['clickDay','global_uct_cnt','global_first','global_last',]],feature_path)"
   ]
  },
  {
   "cell_type": "code",
   "execution_count": 21,
   "metadata": {
    "collapsed": true
   },
   "outputs": [],
   "source": [
    "def add_click_trick(data,start_day,end_day):\n",
    "    feature_path = feature_data_path + 'global_tricks.pkl'\n",
    "    feature_names = ['global_uct_cnt','global_first','global_last']\n",
    "    trick_final = pd.read_pickle(feature_path)\n",
    "    trick_final = trick_final.loc[(trick_final.clickDay>=start_day)&(trick_final.clickDay<=end_day),feature_names]\n",
    "    trick_final.index = data.index\n",
    "    data = pd.concat([data,trick_final[feature_names]],axis=1)\n",
    "    #data = pd.merge(data,trick_final,'left','global_index')\n",
    "    return data"
   ]
  },
  {
   "cell_type": "code",
   "execution_count": 4,
   "metadata": {
    "collapsed": false
   },
   "outputs": [
    {
     "name": "stdout",
     "output_type": "stream",
     "text": [
      "found ../feature_data/global_tricks.pkl\n"
     ]
    }
   ],
   "source": [
    "if __name__ == '__main__':\n",
    "    generate_click_trick()"
   ]
  }
 ],
 "metadata": {
  "kernelspec": {
   "display_name": "Python 3",
   "language": "python",
   "name": "python3"
  },
  "language_info": {
   "codemirror_mode": {
    "name": "ipython",
    "version": 3
   },
   "file_extension": ".py",
   "mimetype": "text/x-python",
   "name": "python",
   "nbconvert_exporter": "python",
   "pygments_lexer": "ipython3",
   "version": "3.6.0"
  }
 },
 "nbformat": 4,
 "nbformat_minor": 2
}
