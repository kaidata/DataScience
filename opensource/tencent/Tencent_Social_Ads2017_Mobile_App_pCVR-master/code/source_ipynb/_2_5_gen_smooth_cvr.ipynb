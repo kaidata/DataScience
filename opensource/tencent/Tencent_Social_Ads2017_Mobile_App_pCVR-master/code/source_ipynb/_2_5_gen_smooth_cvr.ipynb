{
 "cells": [
  {
   "cell_type": "code",
   "execution_count": 1,
   "metadata": {
    "collapsed": true
   },
   "outputs": [],
   "source": [
    "import pandas as pd\n",
    "import numpy as np\n",
    "import gc\n",
    "import os\n",
    "from smooth import BayesianSmoothing\n",
    "from tqdm import tqdm\n",
    "from utils import raw_data_path,feature_data_path,load_pickle,dump_pickle\n",
    "from feature_joint import addAd,addPosition,addTime"
   ]
  },
  {
   "cell_type": "code",
   "execution_count": 2,
   "metadata": {
    "collapsed": true
   },
   "outputs": [],
   "source": [
    "def gen_hist_cvr_smooth(start_day,end_day, key, alpha=0.25):\n",
    "\n",
    "    train_data = load_pickle(raw_data_path+'train.pkl')\n",
    "    test_date = load_pickle(raw_data_path+'test.pkl')\n",
    "    data = train_data.append(test_date)\n",
    "    del train_data,test_date\n",
    "    gc.collect()\n",
    "    data = addTime(data)\n",
    "    data = addAd(data)\n",
    "    data = addPosition(data)\n",
    "    ID_hist_cvr = None\n",
    "    for day in tqdm(np.arange(start_day,end_day+1)):\n",
    "        feature_path = feature_data_path + key +'_histcvr_smooth_day_'+str(day)+'.pkl'\n",
    "        if os.path.exists(feature_path):\n",
    "            print('found '+feature_path)\n",
    "        else:\n",
    "            print('generating '+feature_path)\n",
    "            dfCvr = data[data.clickDay < day]\n",
    "            dfCvr = pd.get_dummies(dfCvr, columns=['label'], prefix='label')\n",
    "            dfCvr = dfCvr.groupby([key], as_index=False).sum()\n",
    "            dfCvr[key+'_cvr'] = (dfCvr['label_1'] + alpha) / (dfCvr['label_0'] + dfCvr['label_1'] + alpha*2)\n",
    "            #dfCvr['clickDay'] = day\n",
    "            sub_data = pd.merge(data.loc[data.clickDay==day,['clickDay',key]],dfCvr[[key,key+'_cvr']],'left',on=[key,])\n",
    "            sub_data.drop_duplicates(['clickDay',key],inplace=True)\n",
    "            sub_data.sort_values(['clickDay',key],inplace=True)\n",
    "            dump_pickle(sub_data[['clickDay',key,key+'_cvr']],feature_path)\n",
    "def add_hist_cvr_smooth(data,key):\n",
    "    hist_cvr_smooth = None\n",
    "    for day in tqdm((data.clickTime//1000000).unique()):\n",
    "        feature_path = feature_data_path + key +'_histcvr_smooth_day_'+str(day)+'.pkl'\n",
    "        day_cvr_smooth = load_pickle(feature_path)\n",
    "        if hist_cvr_smooth is None:\n",
    "            hist_cvr_smooth = day_cvr_smooth\n",
    "        else:\n",
    "            hist_cvr_smooth = pd.concat([hist_cvr_smooth,day_cvr_smooth],axis=0)\n",
    "    data = pd.merge(data,hist_cvr_smooth,'left',['clickDay',key])\n",
    "    return data    "
   ]
  },
  {
   "cell_type": "code",
   "execution_count": 3,
   "metadata": {
    "collapsed": true
   },
   "outputs": [],
   "source": [
    "def gen_positionID_cvr_smooth(test_day):\n",
    "    feature_path = feature_data_path + 'positionID_cvr_smooth_day_'+str(test_day)+'.pkl'\n",
    "    if os.path.exists(feature_path):\n",
    "        print('found '+feature_path)\n",
    "    else:\n",
    "        print('generating '+feature_path)\n",
    "        data = load_pickle(raw_data_path+'train.pkl')\n",
    "        data = addTime(data)\n",
    "        positionID_cvr = data[data.clickDay < test_day]\n",
    "        I = positionID_cvr.groupby('positionID')['label'].size().reset_index()\n",
    "        I.columns = ['positionID', 'I']\n",
    "        C = positionID_cvr.groupby('positionID')['label'].sum().reset_index()\n",
    "        C.columns = ['positionID', 'C']\n",
    "        positionID_cvr = pd.concat([I, C['C']], axis=1)\n",
    "        hyper = BayesianSmoothing(1, 1)\n",
    "        hyper.update(positionID_cvr['I'].values, positionID_cvr['C'].values, 10000, 0.00000001)\n",
    "        alpha = hyper.alpha\n",
    "        beta = hyper.beta\n",
    "        positionID_cvr['positionID_cvr_smooth'] = (positionID_cvr['C'] + alpha) / (positionID_cvr['I'] + alpha + beta)\n",
    "        dump_pickle(positionID_cvr[['positionID', 'positionID_cvr_smooth']],feature_path)\n",
    "        #positionID_cvr[['positionID', 'positionID_cvr_smooth']].to_pickle('positionID_cvr_path')\n",
    "def add_smooth_pos_cvr (data,test_day):\n",
    "    feature_path = feature_data_path + 'positionID_cvr_smooth_day_'+str(test_day)+'.pkl'\n",
    "    smooth_pos_cvr = load_pickle(feature_path)\n",
    "    data = pd.merge(data,smooth_pos_cvr,'left','positionID')\n",
    "    return data"
   ]
  },
  {
   "cell_type": "code",
   "execution_count": null,
   "metadata": {
    "collapsed": true
   },
   "outputs": [],
   "source": [
    "if __name__ == '__main__':\n",
    "    gen_hist_cvr_smooth(23,31,'userID',)\n",
    "    gen_hist_cvr_smooth(23,31,'creativeID',)\n",
    "    gen_hist_cvr_smooth(23,31,'adID',)\n",
    "    gen_hist_cvr_smooth(23,31,'appID',)\n",
    "    gen_positionID_cvr_smooth(27)\n",
    "    gen_positionID_cvr_smooth(31)"
   ]
  }
 ],
 "metadata": {
  "kernelspec": {
   "display_name": "Python 3",
   "language": "python",
   "name": "python3"
  },
  "language_info": {
   "codemirror_mode": {
    "name": "ipython",
    "version": 3
   },
   "file_extension": ".py",
   "mimetype": "text/x-python",
   "name": "python",
   "nbconvert_exporter": "python",
   "pygments_lexer": "ipython3",
   "version": "3.6.0"
  }
 },
 "nbformat": 4,
 "nbformat_minor": 2
}
