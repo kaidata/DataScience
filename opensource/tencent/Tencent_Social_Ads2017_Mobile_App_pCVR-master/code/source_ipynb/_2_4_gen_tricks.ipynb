{
 "cells": [
  {
   "cell_type": "code",
   "execution_count": 1,
   "metadata": {
    "collapsed": false
   },
   "outputs": [],
   "source": [
    "import pandas as pd\n",
    "import numpy as np\n",
    "import gc\n",
    "import os\n",
    "from smooth import BayesianSmoothing\n",
    "from tqdm import tqdm\n",
    "from utils import raw_data_path,feature_data_path,load_pickle,dump_pickle\n",
    "from feature_joint import addAd,addPosition,addTime"
   ]
  },
  {
   "cell_type": "code",
   "execution_count": 2,
   "metadata": {
    "collapsed": true
   },
   "outputs": [],
   "source": [
    "def trick(row):\n",
    "    if row['ua_cnt'] <= 1:\n",
    "        return 0\n",
    "    elif row['ua_first'] > 0:\n",
    "        return 1\n",
    "    elif row['ua_last'] > 0:\n",
    "        return 2\n",
    "    else:\n",
    "        return 3\n",
    "\n",
    "def add_trick(df):\n",
    "    ua_cnt = df.groupby(['userID', 'advertiserID']).size().reset_index()\n",
    "    ua_cnt.rename(columns={0: 'ua_cnt'}, inplace=True)\n",
    "    ua_cnt = ua_cnt[['userID', 'advertiserID', 'ua_cnt']]\n",
    "    df = pd.merge(df, ua_cnt, how='left', on=['userID', 'advertiserID'])\n",
    "\n",
    "    sorted = df.sort_values(by=['userID', 'advertiserID', 'clickTime'], ascending=True)\n",
    "    first = sorted.drop_duplicates(['userID', 'advertiserID'])\n",
    "    last = sorted.drop_duplicates(['userID', 'advertiserID'], keep='last')\n",
    "\n",
    "    first['ua_first'] = 1\n",
    "    first = first[['ua_first']]\n",
    "    df = df.join(first)\n",
    "\n",
    "    last['ua_last'] = 1\n",
    "    last = last[['ua_last']]\n",
    "    df = df.join(last)\n",
    "\n",
    "    df['trick'] = df.apply(trick, axis=1)\n",
    "    return df\n",
    "\n",
    "def add_diff(df):\n",
    "    sorted = df.sort_values(by=['userID', 'advertiserID', 'clickTime'], ascending=True)\n",
    "    first = sorted.groupby(['userID', 'advertiserID'])['clickTime'].first().reset_index()\n",
    "    first.rename(columns={'clickTime': 'first_diff'}, inplace=True)\n",
    "    last = sorted.groupby(['userID', 'advertiserID'])['clickTime'].last().reset_index()\n",
    "    last.rename(columns={'clickTime': 'last_diff'}, inplace=True)\n",
    "    df = pd.merge(df, first, 'left', on=['userID', 'advertiserID'])\n",
    "    df = pd.merge(df, last, 'left', on=['userID', 'advertiserID'])\n",
    "    df['first_diff'] = df['clickTime'] - df['first_diff']\n",
    "    df['last_diff'] = df['last_diff'] - df['clickTime']\n",
    "    return df\n",
    "\n",
    "def add_install2click(df ,i,actions):\n",
    "    install2click = actions[actions.installTime < i*1000000]\n",
    "    df = pd.merge(df, install2click, 'left', ['userID', 'appID'])\n",
    "    df['install2click'] = df['clickTime'] - df['installTime']\n",
    "    return df\n",
    "\n",
    "def gen_tricks(start_day,end_day):\n",
    "    \"\"\"\n",
    "    生成trick,first_diff,last_diff，install2click，根据gloabl_index拼接\n",
    "    \"\"\"\n",
    "    train_data = load_pickle(raw_data_path+'train.pkl')\n",
    "    test_data = load_pickle(raw_data_path+'test.pkl')\n",
    "    actions = load_pickle(raw_data_path+'user_app_actions.pkl')\n",
    "    data = train_data.append(test_data)\n",
    "    del train_data,test_data\n",
    "    data = addTime(data)\n",
    "    data = addAd(data)\n",
    "    \n",
    "    for day in tqdm(np.arange(start_day, end_day+1)):\n",
    "        feature_path = feature_data_path + 'tricks_day_'+str(day)+'.pkl'\n",
    "        if os.path.exists(feature_path):\n",
    "            print('found '+feature_path)\n",
    "        else:\n",
    "            print('generating '+feature_path)\n",
    "            df = data.loc[data.clickDay == day]\n",
    "            df = add_trick(df)\n",
    "            df = add_diff(df)\n",
    "            df = add_install2click(df, day,actions)\n",
    "            dump_pickle(df[['global_index','trick','first_diff','last_diff','install2click']],feature_path)\n",
    "            \n",
    "def add_tricks(data):\n",
    "    \"\"\"\n",
    "    \n",
    "    \"\"\"\n",
    "    tricks = None\n",
    "    for day in tqdm((data.clickTime//1000000).unique()):\n",
    "        feature_path = feature_data_path + 'tricks_day_'+str(day)+'.pkl'\n",
    "        if not os.path.exists(feature_path):\n",
    "            gen_tricks(day,day)\n",
    "        day_tricks = load_pickle(feature_path)\n",
    "        if tricks is None:\n",
    "            tricks = day_tricks\n",
    "        else:\n",
    "            tricks = pd.concat([tricks,day_tricks],axis=0)\n",
    "    data = pd.merge(data,tricks,'left','global_index')\n",
    "    return data"
   ]
  },
  {
   "cell_type": "code",
   "execution_count": 6,
   "metadata": {
    "collapsed": false
   },
   "outputs": [
    {
     "name": "stderr",
     "output_type": "stream",
     "text": [
      "\r",
      "  0%|          | 0/9 [00:00<?, ?it/s]"
     ]
    },
    {
     "name": "stdout",
     "output_type": "stream",
     "text": [
      "found ../feature_data/userID_histcvr_smooth_day_23.pkl\n",
      "found ../feature_data/userID_histcvr_smooth_day_24.pkl\n",
      "found ../feature_data/userID_histcvr_smooth_day_25.pkl\n",
      "found ../feature_data/userID_histcvr_smooth_day_26.pkl\n",
      "found ../feature_data/userID_histcvr_smooth_day_27.pkl\n",
      "found ../feature_data/userID_histcvr_smooth_day_28.pkl\n",
      "found ../feature_data/userID_histcvr_smooth_day_29.pkl\n",
      "found ../feature_data/userID_histcvr_smooth_day_30.pkl\n",
      "generating ../feature_data/userID_histcvr_smooth_day_31.pkl\n"
     ]
    },
    {
     "name": "stderr",
     "output_type": "stream",
     "text": [
      "100%|██████████| 9/9 [02:19<00:00, 15.50s/it]\n",
      "  0%|          | 0/9 [00:00<?, ?it/s]"
     ]
    },
    {
     "name": "stdout",
     "output_type": "stream",
     "text": [
      "found ../feature_data/creativeID_histcvr_smooth_day_23.pkl\n",
      "found ../feature_data/creativeID_histcvr_smooth_day_24.pkl\n",
      "found ../feature_data/creativeID_histcvr_smooth_day_25.pkl\n",
      "found ../feature_data/creativeID_histcvr_smooth_day_26.pkl\n",
      "found ../feature_data/creativeID_histcvr_smooth_day_27.pkl\n",
      "found ../feature_data/creativeID_histcvr_smooth_day_28.pkl\n",
      "found ../feature_data/creativeID_histcvr_smooth_day_29.pkl\n",
      "found ../feature_data/creativeID_histcvr_smooth_day_30.pkl\n",
      "generating ../feature_data/creativeID_histcvr_smooth_day_31.pkl\n"
     ]
    },
    {
     "name": "stderr",
     "output_type": "stream",
     "text": [
      "100%|██████████| 9/9 [00:48<00:00,  5.42s/it]\n",
      "  0%|          | 0/9 [00:00<?, ?it/s]"
     ]
    },
    {
     "name": "stdout",
     "output_type": "stream",
     "text": [
      "found ../feature_data/adID_histcvr_smooth_day_23.pkl\n",
      "found ../feature_data/adID_histcvr_smooth_day_24.pkl\n",
      "found ../feature_data/adID_histcvr_smooth_day_25.pkl\n",
      "found ../feature_data/adID_histcvr_smooth_day_26.pkl\n",
      "found ../feature_data/adID_histcvr_smooth_day_27.pkl\n",
      "found ../feature_data/adID_histcvr_smooth_day_28.pkl\n",
      "found ../feature_data/adID_histcvr_smooth_day_29.pkl\n",
      "found ../feature_data/adID_histcvr_smooth_day_30.pkl\n",
      "generating ../feature_data/adID_histcvr_smooth_day_31.pkl\n"
     ]
    },
    {
     "name": "stderr",
     "output_type": "stream",
     "text": [
      "100%|██████████| 9/9 [00:57<00:00,  6.43s/it]\n",
      "  0%|          | 0/9 [00:00<?, ?it/s]"
     ]
    },
    {
     "name": "stdout",
     "output_type": "stream",
     "text": [
      "found ../feature_data/appID_histcvr_smooth_day_23.pkl\n",
      "found ../feature_data/appID_histcvr_smooth_day_24.pkl\n",
      "found ../feature_data/appID_histcvr_smooth_day_25.pkl\n",
      "found ../feature_data/appID_histcvr_smooth_day_26.pkl\n",
      "found ../feature_data/appID_histcvr_smooth_day_27.pkl\n",
      "found ../feature_data/appID_histcvr_smooth_day_28.pkl\n",
      "found ../feature_data/appID_histcvr_smooth_day_29.pkl\n",
      "found ../feature_data/appID_histcvr_smooth_day_30.pkl\n",
      "generating ../feature_data/appID_histcvr_smooth_day_31.pkl\n"
     ]
    },
    {
     "name": "stderr",
     "output_type": "stream",
     "text": [
      "\r",
      "100%|██████████| 9/9 [00:54<00:00,  6.04s/it]"
     ]
    },
    {
     "name": "stdout",
     "output_type": "stream",
     "text": [
      "all done\n"
     ]
    },
    {
     "name": "stderr",
     "output_type": "stream",
     "text": [
      "\n"
     ]
    }
   ],
   "source": [
    "if __name__ =='__main__':\n",
    "    gen_tricks(23,31)\n",
    "    print('all done')"
   ]
  }
 ],
 "metadata": {
  "kernelspec": {
   "display_name": "Python 3",
   "language": "python",
   "name": "python3"
  },
  "language_info": {
   "codemirror_mode": {
    "name": "ipython",
    "version": 3
   },
   "file_extension": ".py",
   "mimetype": "text/x-python",
   "name": "python",
   "nbconvert_exporter": "python",
   "pygments_lexer": "ipython3",
   "version": "3.6.0"
  }
 },
 "nbformat": 4,
 "nbformat_minor": 2
}
