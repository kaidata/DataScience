{
 "cells": [
  {
   "cell_type": "code",
   "execution_count": 1,
   "metadata": {
    "collapsed": false
   },
   "outputs": [],
   "source": [
    "import os\n",
    "import pickle\n",
    "import gc\n",
    "import pandas as pd\n",
    "import numpy as np\n",
    "from tqdm import tqdm\n",
    "from utils import load_pickle,dump_pickle,raw_data_path,feature_data_path\n",
    "from feature_joint import addTime,addAd,addPosition,addAppCategories,addUserInfo"
   ]
  },
  {
   "cell_type": "markdown",
   "metadata": {},
   "source": [
    "# 根据点击量计算描述向量(advertiserID和appID有用)"
   ]
  },
  {
   "cell_type": "code",
   "execution_count": 2,
   "metadata": {
    "collapsed": false
   },
   "outputs": [],
   "source": [
    "def gen_CountVector_ID_user_clicks(ID_name,last_day=27,ID_describe_feature_names=['age_cut','gender','education','marriageStatus','haveBaby',],drop_na = False):\n",
    "    \"\"\"\n",
    "    生成根据train和test表计算的ID_name计数描述向量，可以进行其他后处理\n",
    "    拼接键[ID_name]\n",
    "    \"\"\"\n",
    "    train = load_pickle(raw_data_path+'train.pkl')\n",
    "    test = load_pickle(raw_data_path+'test.pkl')\n",
    "    data = train.append(test)\n",
    "    data = addTime(data)\n",
    "    data = data[data.clickDay<=last_day]\n",
    "    data = addAd(data)\n",
    "    data = addPosition(data)\n",
    "    data = addAppCategories(data)\n",
    "    data = data[['userID',ID_name]]\n",
    "    user_info = pd.read_csv(raw_data_path+'user.csv')\n",
    "    \n",
    "    user_info['age_cut']=pd.cut(user_info['age'],bins=[-1,0,18,25,35,45,55,np.inf],labels=False)\n",
    "    user_info.loc[user_info.education==7,'education'] = 6\n",
    "    \n",
    "    user_info['hometown_province'] = user_info['hometown'].apply(lambda x: x//100)\n",
    "    user_info['residence_province'] = user_info['residence'].apply(lambda x: x//100)\n",
    "    \n",
    "    for feature in tqdm(ID_describe_feature_names):\n",
    "        feature_path = feature_data_path +'CountVector_'+ID_name+'_user_clicks_'+feature+'_lastday'+str(last_day)+'.pkl'\n",
    "        if drop_na:\n",
    "            feature_path += '.no_na'\n",
    "        if os.path.exists(feature_path):\n",
    "            print('found '+feature_path)\n",
    "            continue\n",
    "        print('generating '+feature_path)\n",
    "        prefix_name = ID_name+'_user_clicks_'+feature\n",
    "        sub_user_info =pd.get_dummies(user_info[['userID',feature]],columns=[feature],prefix=prefix_name)\n",
    "        if drop_na:\n",
    "            sub_user_info.drop([prefix_name+'_0'],axis=1,inplace=True)\n",
    "        data = pd.merge(data,sub_user_info,'left','userID')\n",
    "        dummy_features= sub_user_info.columns.tolist()\n",
    "        dummy_features.remove('userID')\n",
    "        ID_describe_feature = data[[ID_name]+dummy_features].groupby([ID_name],as_index=False).sum()\n",
    "        data.drop(dummy_features,axis=1,inplace=True)\n",
    "        dump_pickle(ID_describe_feature,feature_path)\n",
    "\n",
    "def get_ConcatedTfidfVector_ID_user_clicks(ID_name,last_day,mode='local',concated_list=['age_cut','gender','education','marriageStatus','haveBaby',],drop_na=False,norm='l2', use_idf=True, smooth_idf=True, sublinear_tf=False):\n",
    "    \"\"\"\n",
    "    使用默认的local模式效果稍微好一些\n",
    "    测试过advertiserID,camgaignID,adID,creativeID,appID,appCategory,cate_A,appPlatform,positionType\n",
    "    adver效果较好,appID效果其次,然后是appCategory，其他都不好\n",
    "    \"\"\"\n",
    "    from sklearn.feature_extraction.text import TfidfTransformer\n",
    "    tfidf_vec = TfidfTransformer(norm=norm, use_idf=use_idf, smooth_idf=smooth_idf, sublinear_tf=sublinear_tf)\n",
    "    concated_tfidf_vec = None\n",
    "\n",
    "    for feature in tqdm(concated_list):\n",
    "        feature_path = feature_data_path +'CountVector_'+ID_name+'_user_clicks_'+feature+'_lastday'+str(last_day)+'.pkl'\n",
    "        if drop_na:\n",
    "            feature_path += '.no_na'\n",
    "        if not os.path.exists(feature_path):\n",
    "            gen_CountVector_ID_user_clicks(ID_name)\n",
    "        count_vec = load_pickle(feature_path)\n",
    "        if mode == 'local':\n",
    "            count_vec.set_index(ID_name,inplace=True)\n",
    "            vec_columns = count_vec.columns\n",
    "            local_tfidf_vec = tfidf_vec.fit_transform(count_vec).todense()\n",
    "            local_tfidf_vec = pd.DataFrame(local_tfidf_vec,columns=vec_columns,index=count_vec.index).reset_index()\n",
    "        elif mode=='global':\n",
    "            local_tfidf_vec = count_vec\n",
    "            \n",
    "        if concated_tfidf_vec is None:\n",
    "            concated_tfidf_vec = local_tfidf_vec\n",
    "        else:\n",
    "            concated_tfidf_vec = pd.merge(concated_tfidf_vec,local_tfidf_vec,'left',ID_name)\n",
    "    if mode == 'global':\n",
    "        concated_tfidf_vec.set_index(ID_name,inplace=True)\n",
    "        vec_columns = concated_tfidf_vec.columns\n",
    "        global_concated_tfidf_vec = tfidf_vec.fit_transform(concated_tfidf_vec).todense()\n",
    "        global_concated_tfidf_vec = pd.DataFrame(global_concated_tfidf_vec,columns = vec_columns,index=concated_tfidf_vec.index)\n",
    "        concated_tfidf_vec = global_concated_tfidf_vec.reset_index()\n",
    "    return concated_tfidf_vec"
   ]
  },
  {
   "cell_type": "code",
   "execution_count": 3,
   "metadata": {
    "collapsed": false
   },
   "outputs": [
    {
     "name": "stderr",
     "output_type": "stream",
     "text": [
      "100%|██████████| 5/5 [00:00<00:00, 520.37it/s]\n"
     ]
    },
    {
     "name": "stdout",
     "output_type": "stream",
     "text": [
      "found ../feature_data/CountVector_advertiserID_user_clicks_age_cut_lastday31.pkl\n",
      "found ../feature_data/CountVector_advertiserID_user_clicks_gender_lastday31.pkl\n",
      "found ../feature_data/CountVector_advertiserID_user_clicks_education_lastday31.pkl\n",
      "found ../feature_data/CountVector_advertiserID_user_clicks_marriageStatus_lastday31.pkl\n",
      "found ../feature_data/CountVector_advertiserID_user_clicks_haveBaby_lastday31.pkl\n"
     ]
    },
    {
     "name": "stderr",
     "output_type": "stream",
     "text": [
      "\r",
      "  0%|          | 0/5 [00:00<?, ?it/s]"
     ]
    },
    {
     "name": "stdout",
     "output_type": "stream",
     "text": [
      "generating ../feature_data/CountVector_appID_user_clicks_age_cut_lastday31.pkl\n"
     ]
    },
    {
     "name": "stderr",
     "output_type": "stream",
     "text": [
      "\r",
      " 20%|██        | 1/5 [00:24<01:38, 24.73s/it]"
     ]
    },
    {
     "name": "stdout",
     "output_type": "stream",
     "text": [
      "generating ../feature_data/CountVector_appID_user_clicks_gender_lastday31.pkl\n"
     ]
    },
    {
     "name": "stderr",
     "output_type": "stream",
     "text": [
      "\r",
      " 40%|████      | 2/5 [00:45<01:10, 23.40s/it]"
     ]
    },
    {
     "name": "stdout",
     "output_type": "stream",
     "text": [
      "generating ../feature_data/CountVector_appID_user_clicks_education_lastday31.pkl\n"
     ]
    },
    {
     "name": "stderr",
     "output_type": "stream",
     "text": [
      "\r",
      " 60%|██████    | 3/5 [01:09<00:47, 23.84s/it]"
     ]
    },
    {
     "name": "stdout",
     "output_type": "stream",
     "text": [
      "generating ../feature_data/CountVector_appID_user_clicks_marriageStatus_lastday31.pkl\n"
     ]
    },
    {
     "name": "stderr",
     "output_type": "stream",
     "text": [
      "\r",
      " 80%|████████  | 4/5 [01:30<00:22, 22.94s/it]"
     ]
    },
    {
     "name": "stdout",
     "output_type": "stream",
     "text": [
      "generating ../feature_data/CountVector_appID_user_clicks_haveBaby_lastday31.pkl\n"
     ]
    },
    {
     "name": "stderr",
     "output_type": "stream",
     "text": [
      "100%|██████████| 5/5 [01:53<00:00, 22.97s/it]\n",
      "100%|██████████| 5/5 [00:00<00:00, 1833.98it/s]\n"
     ]
    },
    {
     "name": "stdout",
     "output_type": "stream",
     "text": [
      "found ../feature_data/CountVector_advertiserID_user_clicks_age_cut_lastday27.pkl\n",
      "found ../feature_data/CountVector_advertiserID_user_clicks_gender_lastday27.pkl\n",
      "found ../feature_data/CountVector_advertiserID_user_clicks_education_lastday27.pkl\n",
      "found ../feature_data/CountVector_advertiserID_user_clicks_marriageStatus_lastday27.pkl\n",
      "found ../feature_data/CountVector_advertiserID_user_clicks_haveBaby_lastday27.pkl\n"
     ]
    },
    {
     "name": "stderr",
     "output_type": "stream",
     "text": [
      "100%|██████████| 5/5 [00:00<00:00, 393.53it/s]"
     ]
    },
    {
     "name": "stdout",
     "output_type": "stream",
     "text": [
      "found ../feature_data/CountVector_appID_user_clicks_age_cut_lastday27.pkl\n",
      "found ../feature_data/CountVector_appID_user_clicks_gender_lastday27.pkl\n",
      "found ../feature_data/CountVector_appID_user_clicks_education_lastday27.pkl\n",
      "found ../feature_data/CountVector_appID_user_clicks_marriageStatus_lastday27.pkl\n",
      "found ../feature_data/CountVector_appID_user_clicks_haveBaby_lastday27.pkl\n",
      "all done\n"
     ]
    },
    {
     "name": "stderr",
     "output_type": "stream",
     "text": [
      "\n"
     ]
    }
   ],
   "source": [
    "if __name__ == '__main__':\n",
    "\n",
    "    gen_CountVector_ID_user_clicks('advertiserID',31)\n",
    "    gen_CountVector_ID_user_clicks('appID',31)\n",
    "    gen_CountVector_ID_user_clicks('advertiserID',27)\n",
    "    gen_CountVector_ID_user_clicks('appID',27)\n",
    "    print('all done')"
   ]
  },
  {
   "cell_type": "code",
   "execution_count": null,
   "metadata": {
    "collapsed": true
   },
   "outputs": [],
   "source": []
  }
 ],
 "metadata": {
  "kernelspec": {
   "display_name": "Python 3",
   "language": "python",
   "name": "python3"
  },
  "language_info": {
   "codemirror_mode": {
    "name": "ipython",
    "version": 3
   },
   "file_extension": ".py",
   "mimetype": "text/x-python",
   "name": "python",
   "nbconvert_exporter": "python",
   "pygments_lexer": "ipython3",
   "version": "3.6.0"
  }
 },
 "nbformat": 4,
 "nbformat_minor": 2
}
