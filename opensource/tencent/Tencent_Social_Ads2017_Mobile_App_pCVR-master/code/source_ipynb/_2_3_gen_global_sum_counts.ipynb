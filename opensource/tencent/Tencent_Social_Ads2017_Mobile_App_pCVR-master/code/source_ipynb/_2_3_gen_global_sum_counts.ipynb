{
 "cells": [
  {
   "cell_type": "code",
   "execution_count": 1,
   "metadata": {
    "collapsed": false
   },
   "outputs": [],
   "source": [
    "import os\n",
    "import pickle\n",
    "import gc\n",
    "import pandas as pd\n",
    "import numpy as np\n",
    "from tqdm import tqdm\n",
    "from utils import load_pickle,dump_pickle,raw_data_path,feature_data_path\n",
    "from feature_joint import addTime,addAd,addPosition,addAppCategories,addUserInfo"
   ]
  },
  {
   "cell_type": "code",
   "execution_count": 2,
   "metadata": {
    "collapsed": true
   },
   "outputs": [],
   "source": [
    "def gen_ID_global_sum_count(last_day = 27,stats_features = ['positionID','creativeID','appID','adID','userID']):\n",
    "    train = load_pickle(raw_data_path+'train.pkl')\n",
    "    test = load_pickle(raw_data_path+'test.pkl')\n",
    "    data = train.append(test)\n",
    "    data = addTime(data)\n",
    "    data = data[data.clickDay<=last_day]\n",
    "    del train,test\n",
    "    gc.collect()\n",
    "    data = addAd(data)\n",
    "    data = addPosition(data)\n",
    "    data= addAppCategories(data)\n",
    "    \n",
    "    \n",
    "    for feature in tqdm(stats_features):\n",
    "        feature_path = feature_data_path+'global_count_'+feature+'_lastday'+str(last_day)+'.pkl'\n",
    "        if os.path.exists(feature_path):\n",
    "            print('found '+feature_path)\n",
    "            #continue\n",
    "        print('generating '+feature_path)\n",
    "        feature_count_sum = pd.DataFrame(data.groupby(feature).size()).reset_index().rename(columns={0:feature+'_sum_count'})\n",
    "        dump_pickle(feature_count_sum,feature_path)"
   ]
  },
  {
   "cell_type": "code",
   "execution_count": 3,
   "metadata": {
    "collapsed": true
   },
   "outputs": [],
   "source": [
    "def add_global_count_sum(data,last_day =27 ,stats_features=['positionID','creativeID','appID','adID','userID']):\n",
    "    \"\"\"\n",
    "    添加ID出现次数，根据ID_name拼接\n",
    "    \"\"\"\n",
    "    for feature in tqdm(stats_features):\n",
    "        feature_path = feature_data_path+'global_count_'+feature+'_lastday'+str(last_day)+'.pkl'\n",
    "        if not os.path.exists(feature_path):\n",
    "            gen_ID_global_sum_count([feature])\n",
    "        feature_count_sum = load_pickle(feature_path)\n",
    "        data = data.merge(feature_count_sum,'left',[feature])\n",
    "    return data"
   ]
  },
  {
   "cell_type": "code",
   "execution_count": 4,
   "metadata": {
    "collapsed": false
   },
   "outputs": [
    {
     "name": "stderr",
     "output_type": "stream",
     "text": [
      "\r",
      "  0%|          | 0/5 [00:00<?, ?it/s]"
     ]
    },
    {
     "name": "stdout",
     "output_type": "stream",
     "text": [
      "generating ../feature_data/global_count_positionID_lastday27.pkl\n"
     ]
    },
    {
     "name": "stderr",
     "output_type": "stream",
     "text": [
      "\r",
      " 20%|██        | 1/5 [00:04<00:19,  4.86s/it]"
     ]
    },
    {
     "name": "stdout",
     "output_type": "stream",
     "text": [
      "generating ../feature_data/global_count_creativeID_lastday27.pkl\n"
     ]
    },
    {
     "name": "stderr",
     "output_type": "stream",
     "text": [
      "\r",
      " 40%|████      | 2/5 [00:05<00:10,  3.65s/it]"
     ]
    },
    {
     "name": "stdout",
     "output_type": "stream",
     "text": [
      "generating ../feature_data/global_count_appID_lastday27.pkl\n"
     ]
    },
    {
     "name": "stderr",
     "output_type": "stream",
     "text": [
      "\r",
      " 60%|██████    | 3/5 [00:06<00:05,  2.74s/it]"
     ]
    },
    {
     "name": "stdout",
     "output_type": "stream",
     "text": [
      "generating ../feature_data/global_count_adID_lastday27.pkl\n"
     ]
    },
    {
     "name": "stderr",
     "output_type": "stream",
     "text": [
      "\r",
      " 80%|████████  | 4/5 [00:07<00:02,  2.16s/it]"
     ]
    },
    {
     "name": "stdout",
     "output_type": "stream",
     "text": [
      "generating ../feature_data/global_count_userID_lastday27.pkl\n"
     ]
    },
    {
     "name": "stderr",
     "output_type": "stream",
     "text": [
      "100%|██████████| 5/5 [00:15<00:00,  4.03s/it]\n",
      "  0%|          | 0/5 [00:00<?, ?it/s]"
     ]
    },
    {
     "name": "stdout",
     "output_type": "stream",
     "text": [
      "generating ../feature_data/global_count_positionID_lastday31.pkl\n"
     ]
    },
    {
     "name": "stderr",
     "output_type": "stream",
     "text": [
      "\r",
      " 20%|██        | 1/5 [00:15<01:00, 15.00s/it]"
     ]
    },
    {
     "name": "stdout",
     "output_type": "stream",
     "text": [
      "generating ../feature_data/global_count_creativeID_lastday31.pkl\n"
     ]
    },
    {
     "name": "stderr",
     "output_type": "stream",
     "text": [
      "\r",
      " 40%|████      | 2/5 [00:16<00:32, 10.88s/it]"
     ]
    },
    {
     "name": "stdout",
     "output_type": "stream",
     "text": [
      "generating ../feature_data/global_count_appID_lastday31.pkl\n"
     ]
    },
    {
     "name": "stderr",
     "output_type": "stream",
     "text": [
      "\r",
      " 60%|██████    | 3/5 [00:17<00:15,  7.90s/it]"
     ]
    },
    {
     "name": "stdout",
     "output_type": "stream",
     "text": [
      "generating ../feature_data/global_count_adID_lastday31.pkl\n"
     ]
    },
    {
     "name": "stderr",
     "output_type": "stream",
     "text": [
      "\r",
      " 80%|████████  | 4/5 [00:18<00:05,  5.90s/it]"
     ]
    },
    {
     "name": "stdout",
     "output_type": "stream",
     "text": [
      "generating ../feature_data/global_count_userID_lastday31.pkl\n"
     ]
    },
    {
     "name": "stderr",
     "output_type": "stream",
     "text": [
      "100%|██████████| 5/5 [00:29<00:00,  7.49s/it]\n"
     ]
    }
   ],
   "source": [
    "if __name__ =='__main__':\n",
    "    gen_ID_global_sum_count(27)\n",
    "    gen_ID_global_sum_count(31)\n",
    "    print('all done')"
   ]
  },
  {
   "cell_type": "code",
   "execution_count": null,
   "metadata": {
    "collapsed": true
   },
   "outputs": [],
   "source": []
  }
 ],
 "metadata": {
  "kernelspec": {
   "display_name": "Python 3",
   "language": "python",
   "name": "python3"
  },
  "language_info": {
   "codemirror_mode": {
    "name": "ipython",
    "version": 3
   },
   "file_extension": ".py",
   "mimetype": "text/x-python",
   "name": "python",
   "nbconvert_exporter": "python",
   "pygments_lexer": "ipython3",
   "version": "3.6.0"
  }
 },
 "nbformat": 4,
 "nbformat_minor": 2
}
