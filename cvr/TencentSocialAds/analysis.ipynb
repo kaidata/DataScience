{
 "cells": [
  {
   "cell_type": "code",
   "execution_count": 5,
   "metadata": {
    "collapsed": true
   },
   "outputs": [
    {
     "name": "stdout",
     "output_type": "stream",
     "text": [
      "count    3.749528e+06\nmean     2.487300e-02\nstd      1.557380e-01\nmin      0.000000e+00\n25%      0.000000e+00\n50%      0.000000e+00\n75%      0.000000e+00\nmax      1.000000e+00\nName: label, dtype: float64\n40.20424181338595\n"
     ]
    }
   ],
   "source": [
    "import pandas as pd\n",
    "import f_pack\n",
    "\n",
    "data = f_pack.read_file(f_pack.file_train)\n",
    "print(data['label'].describe())  # click mean = 0.025\n",
    "num1 = len(data['userID'])\n",
    "data = data[data['label'] == 1]\n",
    "num2 = len(data['userID'])\n",
    "print(num2 / num1)"
   ]
  },
  {
   "cell_type": "code",
   "execution_count": 7,
   "metadata": {},
   "outputs": [
    {
     "name": "stdout",
     "output_type": "stream",
     "text": [
      "Index(['label', 'clickTime', 'conversionTime', 'creativeID', 'userID',\n       'positionID', 'connectionType', 'telecomsOperator'],\n      dtype='object')\nIndex(['userID', 'age', 'gender', 'education', 'marriageStatus', 'haveBaby',\n       'hometown', 'residence'],\n      dtype='object')\nIndex(['userID', 'installTime', 'appID'], dtype='object')\nIndex(['creativeID', 'adID', 'camgaignID', 'advertiserID', 'appID',\n       'appPlatform'],\n      dtype='object')\nIndex(['appID', 'appCategory'], dtype='object')\nIndex(['positionID', 'sitesetID', 'positionType'], dtype='object')\nIndex(['userID', 'appID'], dtype='object')\n"
     ]
    }
   ],
   "source": [
    "train = f_pack.read_file(f_pack.file_train, 1)\n",
    "print(train.columns)\n",
    "user = f_pack.read_file(f_pack.file_user, 1)\n",
    "print(user.columns)\n",
    "user_app_action = f_pack.read_file(f_pack.file_user_app_actions, 1)\n",
    "print(user_app_action.columns)\n",
    "ads = f_pack.read_file(f_pack.file_ad, 1)\n",
    "print(ads.columns)\n",
    "app_categ = f_pack.read_file(f_pack.file_app_categories, 1)\n",
    "print(app_categ.columns)\n",
    "position = f_pack.read_file(f_pack.file_position, 1)\n",
    "print(position.columns)\n",
    "user_install_app = f_pack.read_file(f_pack.file_user_installedapps, 1)\n",
    "print(user_install_app.columns)"
   ]
  },
  {
   "cell_type": "code",
   "execution_count": 3,
   "metadata": {},
   "outputs": [
    {
     "name": "stdout",
     "output_type": "stream",
     "text": [
      "Index(['instanceID', 'label', 'clickTime', 'creativeID', 'userID',\n       'positionID', 'connectionType', 'telecomsOperator'],\n      dtype='object')\n"
     ]
    }
   ],
   "source": [
    "import pandas as pd\n",
    "import f_pack\n",
    "dfTest = pd.read_csv(f_pack.file_test, nrows=1)\n",
    "print(dfTest.columns)"
   ]
  },
  {
   "cell_type": "code",
   "execution_count": 12,
   "metadata": {},
   "outputs": [
    {
     "name": "stdout",
     "output_type": "stream",
     "text": [
      "0     8567\n1    51956\n2    32739\ndtype: int64\n"
     ]
    }
   ],
   "source": [
    "train = pd.read_csv(f_pack.file_train)\n",
    "user = pd.read_csv(f_pack.file_user)\n",
    "data = pd.merge(train, user, how='left', on='userID')\n",
    "count = data.groupby('gender', as_index=False).apply(lambda x: x['label'].sum())\n",
    "print(count)  # gender is a good feature: gender = 1 is best"
   ]
  },
  {
   "cell_type": "code",
   "execution_count": 10,
   "metadata": {},
   "outputs": [
    {
     "name": "stdout",
     "output_type": "stream",
     "text": [
      "0    20445\n1    19350\n2    19213\n3    18835\n4     8287\n5     5863\n6      821\n7      448\ndtype: int64\n"
     ]
    }
   ],
   "source": [
    "count = data.groupby('education', as_index=False).apply(lambda x: x['label'].sum())\n",
    "print(count)  # education is a good feature"
   ]
  },
  {
   "cell_type": "code",
   "execution_count": 11,
   "metadata": {},
   "outputs": [
    {
     "name": "stdout",
     "output_type": "stream",
     "text": [
      "0    37439\n1    26352\n2    23047\n3     6424\ndtype: int64\n"
     ]
    }
   ],
   "source": [
    "count = data.groupby('marriageStatus', as_index=False).apply(lambda x: x['label'].sum())\n",
    "print(count)  # unknown feature, maybe good"
   ]
  },
  {
   "cell_type": "code",
   "execution_count": 13,
   "metadata": {},
   "outputs": [
    {
     "name": "stdout",
     "output_type": "stream",
     "text": [
      "0    77323\n1    11709\n2     1330\n3      870\n4      807\n5      719\n6      504\ndtype: int64\n"
     ]
    }
   ],
   "source": [
    "count = data.groupby('haveBaby', as_index=False).apply(lambda x: x['label'].sum())\n",
    "print(count)  # unknown feature, maybe good"
   ]
  },
  {
   "cell_type": "code",
   "execution_count": 15,
   "metadata": {},
   "outputs": [
    {
     "name": "stdout",
     "output_type": "stream",
     "text": [
      "0    72124\n1    21138\ndtype: int64\n"
     ]
    }
   ],
   "source": [
    "train = pd.read_csv(f_pack.file_train)\n",
    "ads = pd.read_csv(f_pack.file_ad)\n",
    "data = pd.merge(train, ads, how='left', on='creativeID')\n",
    "count = data.groupby('appPlatform', as_index=False).apply(lambda x: x['label'].sum())\n",
    "print(count)  # good feature"
   ]
  },
  {
   "cell_type": "code",
   "execution_count": 17,
   "metadata": {},
   "outputs": [
    {
     "name": "stdout",
     "output_type": "stream",
     "text": [
      "0        64\n1      7414\n2       891\n3     15019\n4        10\n5      1466\n6      9896\n7      1482\n8     38962\n9      1277\n10     8051\n11     6797\n12        0\n13     1933\ndtype: int64\n"
     ]
    }
   ],
   "source": [
    "ads_cat=pd.read_csv(f_pack.file_app_categories)\n",
    "data = pd.merge(train, ads, how='left', on='creativeID')\n",
    "data = pd.merge(data, ads_cat, how='left', on='appID')\n",
    "count = data.groupby('appCategory', as_index=False).apply(lambda x: x['label'].sum())\n",
    "print(count)  # good feature"
   ]
  },
  {
   "cell_type": "code",
   "execution_count": 19,
   "metadata": {},
   "outputs": [
    {
     "name": "stdout",
     "output_type": "stream",
     "text": [
      "0    45741\n1    44311\n2     1007\n3     1469\n4       29\n5      705\ndtype: int64\n"
     ]
    }
   ],
   "source": [
    "train = pd.read_csv(f_pack.file_train)\n",
    "position = pd.read_csv(f_pack.file_position)\n",
    "data = pd.merge(train, position, how='left', on='positionID')\n",
    "count = data.groupby('positionType', as_index=False).apply(lambda x: x['label'].sum())\n",
    "print(count)  # good feature"
   ]
  },
  {
   "cell_type": "code",
   "execution_count": 20,
   "metadata": {},
   "outputs": [
    {
     "name": "stdout",
     "output_type": "stream",
     "text": [
      "0      209\n1    87556\n2     4443\n3      773\n4      281\ndtype: int64\n"
     ]
    }
   ],
   "source": [
    "train = pd.read_csv(f_pack.file_train)\n",
    "count = train.groupby('connectionType', as_index=False).apply(lambda x: x['label'].sum())\n",
    "print(count)  # good feature"
   ]
  },
  {
   "cell_type": "code",
   "execution_count": 22,
   "metadata": {},
   "outputs": [
    {
     "name": "stdout",
     "output_type": "stream",
     "text": [
      "0     3239\n1    45370\n2    24113\n3    20540\ndtype: int64\n"
     ]
    }
   ],
   "source": [
    "train = pd.read_csv(f_pack.file_train)\n",
    "count = train.groupby('telecomsOperator', as_index=False).apply(lambda x: x['label'].sum())\n",
    "print(count)  # seems a good feature"
   ]
  },
  {
   "cell_type": "code",
   "execution_count": 3,
   "metadata": {},
   "outputs": [
    {
     "name": "stdout",
     "output_type": "stream",
     "text": [
      "Index(['userID', 'appID'], dtype='object')\n84039009\n"
     ]
    },
    {
     "name": "stdout",
     "output_type": "stream",
     "text": [
      "1446105\n84039009\n"
     ]
    },
    {
     "name": "stdout",
     "output_type": "stream",
     "text": [
      "180389\nIndex(['userID', 'installTime', 'appID'], dtype='object')\n6003471\n781112\n6003471\n"
     ]
    },
    {
     "name": "stdout",
     "output_type": "stream",
     "text": [
      "100923\n"
     ]
    }
   ],
   "source": [
    "user_app_action = f_pack.read_file(f_pack.file_user_app_actions)\n",
    "user_install = f_pack.read_file(f_pack.file_user_installedapps)\n",
    "def check(data):\n",
    "    print(data.columns)\n",
    "    print(len(data['userID']))\n",
    "    print(len(data['userID'].unique()))\n",
    "    print(len(data['appID']))\n",
    "    print(len(data['appID'].unique()))\n",
    "check(user_install)\n",
    "check(user_app_action)"
   ]
  },
  {
   "cell_type": "code",
   "execution_count": null,
   "metadata": {},
   "outputs": [],
   "source": [
    "# xgb 0.2\n",
    "# appID 0.109883\n",
    "'''\n",
    "0.107427 [\"creativeID\", \"adID\", \"camgaignID\", \"advertiserID\",\"appID\", \"appPlatform\"]\n",
    "0.102117 +['positionID', 'connectionType', 'telecomsOperator']\n",
    "0.10192 +['age', 'gender', 'education', 'marriageStatus', 'haveBaby']\n",
    "0.101825 change penalty='l2' to 'l1'\n",
    "0.101984     + ['residence', 'hometown']\n",
    "0.101821 - ['hometown']\n",
    "0.106 - ['positionID'] \n",
    "0.101815 age map(lambda x: (x // 5) + 1 if x>0 else 0) \n",
    "0.101814 + ['appCategory']\n",
    "0.101987 + ['sitesetID', 'positionType'] + l2\n",
    "0.105 + ['sitesetID', 'positionType'] - ['positionID'] + l1\n",
    "0.1036 dfTrain = dfTrain[dfTrain['clickTime'] <= 290000]\n",
    "0.101809 + appID_score - ['appID','appCategory']\n",
    "0.105713 groupby[all features].apply(mean) + LR\n",
    "B leader board\n",
    "0.104229 1809['proba'] * 0.15 + groupby_all_feats['proba_02'] * 0.1 + appID['proba_03'] * 0.75)})\n",
    "0.103985 +['avg_cvr','gender-education']+ test 0.2\n",
    "0.103973 ['avg_cvr','gender-education','age-education']+ test 0.2\n",
    "0.103916 +['avg_cvr']\n",
    "0.103983 +['avg_cvr'] test 0.2\n",
    "0.103963 +['avg_cvr','age-education'] test 0.2\n",
    "0.103668 +['age-education', 'app-position']\n",
    "0.103654 +['age-education', 'app-position','appPlatform-position']\n",
    "0.10368 +['age-education', 'app-position', 'appCate-position'] \n",
    "useless features: gender-education,appCate-position，'positionID-connectionType'\n",
    "pending:['positionID', 'adID']\n",
    "'''"
   ]
  },
  {
   "cell_type": "code",
   "execution_count": null,
   "metadata": {},
   "outputs": [],
   "source": [
    ""
   ]
  },
  {
   "cell_type": "code",
   "execution_count": null,
   "metadata": {},
   "outputs": [],
   "source": [
    "analysis.show_column_unique(f_pack.file_test, 'userID')  # 297466\n",
    "analysis.show_column_unique(f_pack.file_user, 'userID')  # 2805118\n",
    "analysis.show_column_unique(f_pack.file_user_installedapps, 'userID')  # 1446105"
   ]
  },
  {
   "cell_type": "code",
   "execution_count": 4,
   "metadata": {},
   "outputs": [],
   "source": [
    "import pandas as pd\n",
    "import f_pack\n",
    "data = pd.read_csv(f_pack.file_user_installedapps)\n",
    "data['label'] = 1\n",
    "data = data.groupby('userID').sum()\n",
    "data = data[['userID', 'label']]\n",
    "print(data)"
   ]
  },
  {
   "cell_type": "code",
   "execution_count": null,
   "metadata": {},
   "outputs": [],
   "source": [
    "'''\n",
    "# LR02\n",
    "Accuracy:  0.974850181223\n",
    "AUC:  0.500129812836\n",
    "Confusion Matrix:  [[731041      4]\n",
    " [ 18856      5]]\n",
    "             precision    recall  f1-score   support\n",
    "\n",
    "          0       0.97      1.00      0.99    731045\n",
    "          1       0.56      0.00      0.00     18861\n",
    "\n",
    "avg / total       0.96      0.97      0.96    749906\n",
    "'''"
   ]
  },
  {
   "cell_type": "code",
   "execution_count": null,
   "metadata": {},
   "outputs": [],
   "source": [
    "'''\n",
    "#LR 04\n",
    "Accuracy:  0.974851514723\n",
    "AUC:  0.500182148341\n",
    "Confusion Matrix:  [[731040      5]\n",
    " [ 18854      7]]\n",
    "             precision    recall  f1-score   support\n",
    "          0       0.97      1.00      0.99    731045\n",
    "          1       0.58      0.00      0.00     18861\n",
    "\n",
    "avg / total       0.97      0.97      0.96    749906\n",
    "'''"
   ]
  },
  {
   "cell_type": "code",
   "execution_count": null,
   "metadata": {},
   "outputs": [],
   "source": [
    "'''\n",
    "LR 05\n",
    "Accuracy:  0.974851514723\n",
    "AUC:  0.500182148341\n",
    "Confusion Matrix:  [[731040      5]\n",
    " [ 18854      7]]\n",
    "             precision    recall  f1-score   support\n",
    "\n",
    "          0       0.97      1.00      0.99    731045\n",
    "          1       0.58      0.00      0.00     18861\n",
    "\n",
    "avg / total       0.97      0.97      0.96    749906\n",
    "\n",
    "'''"
   ]
  },
  {
   "cell_type": "code",
   "execution_count": null,
   "metadata": {},
   "outputs": [],
   "source": [
    "'''\n",
    "LR04 0.103135\n",
    "+ positionID-connectionType\n",
    "'''"
   ]
  },
  {
   "cell_type": "code",
   "execution_count": null,
   "metadata": {},
   "outputs": [],
   "source": [
    "'''\n",
    "0.102738\n",
    "[194]\teval-logloss:0.099002\ttrain-logloss:0.09743\n",
    "[195]\teval-logloss:0.098998\ttrain-logloss:0.097424\n",
    "[749]\teval-logloss:0.098222\ttrain-logloss:0.09497\n",
    "'''"
   ]
  }
 ],
 "metadata": {
  "kernelspec": {
   "display_name": "Python 2",
   "language": "python",
   "name": "python2"
  },
  "language_info": {
   "codemirror_mode": {
    "name": "ipython",
    "version": 2.0
   },
   "file_extension": ".py",
   "mimetype": "text/x-python",
   "name": "python",
   "nbconvert_exporter": "python",
   "pygments_lexer": "ipython2",
   "version": "2.7.6"
  }
 },
 "nbformat": 4,
 "nbformat_minor": 0
}